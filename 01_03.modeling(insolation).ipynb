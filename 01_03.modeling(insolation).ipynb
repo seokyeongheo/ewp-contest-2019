{
 "cells": [
  {
   "cell_type": "markdown",
   "metadata": {},
   "source": [
    "# SETUP"
   ]
  },
  {
   "cell_type": "code",
   "execution_count": 1,
   "metadata": {},
   "outputs": [
    {
     "name": "stderr",
     "output_type": "stream",
     "text": [
      "C:\\Anaconda\\lib\\site-packages\\sklearn\\ensemble\\weight_boosting.py:29: DeprecationWarning: numpy.core.umath_tests is an internal NumPy module and should not be imported. It will be removed in a future NumPy release.\n",
      "  from numpy.core.umath_tests import inner1d\n"
     ]
    }
   ],
   "source": [
    "import numpy as np\n",
    "import pandas as pd\n",
    "\n",
    "from sklearn.model_selection import train_test_split\n",
    "from sklearn.preprocessing import MinMaxScaler\n",
    "\n",
    "from sklearn.svm import SVR\n",
    "from sklearn.linear_model import LinearRegression\n",
    "from sklearn.ensemble import RandomForestRegressor\n",
    "\n",
    "from sklearn.model_selection import cross_val_score\n",
    "from sklearn.metrics import mean_squared_error\n",
    "from sklearn.metrics import r2_score\n",
    "import statsmodels.api as sm"
   ]
  },
  {
   "cell_type": "markdown",
   "metadata": {},
   "source": [
    "---"
   ]
  },
  {
   "cell_type": "markdown",
   "metadata": {},
   "source": [
    "# load dataset"
   ]
  },
  {
   "cell_type": "code",
   "execution_count": 2,
   "metadata": {},
   "outputs": [],
   "source": [
    "data_solar = pd.read_pickle('A_site_solar_Data_concat_02.pkl')\n",
    "data_weather = pd.read_pickle('A_site_weather_Data_concat_02.pkl')\n",
    "data_forecast = pd.read_csv('data_forecast_2018_02.csv')"
   ]
  },
  {
   "cell_type": "code",
   "execution_count": 15,
   "metadata": {},
   "outputs": [
    {
     "data": {
      "text/html": [
       "<div>\n",
       "<style scoped>\n",
       "    .dataframe tbody tr th:only-of-type {\n",
       "        vertical-align: middle;\n",
       "    }\n",
       "\n",
       "    .dataframe tbody tr th {\n",
       "        vertical-align: top;\n",
       "    }\n",
       "\n",
       "    .dataframe thead th {\n",
       "        text-align: right;\n",
       "    }\n",
       "</style>\n",
       "<table border=\"1\" class=\"dataframe\">\n",
       "  <thead>\n",
       "    <tr style=\"text-align: right;\">\n",
       "      <th></th>\n",
       "      <th>Unnamed: 0</th>\n",
       "      <th>time(prediction)</th>\n",
       "      <th>time(46H later)</th>\n",
       "      <th>temperature_3H</th>\n",
       "      <th>sky</th>\n",
       "      <th>precipitation_form</th>\n",
       "      <th>rainfall_probability</th>\n",
       "      <th>humidity</th>\n",
       "      <th>wind_speed</th>\n",
       "      <th>wind_direction</th>\n",
       "    </tr>\n",
       "  </thead>\n",
       "  <tbody>\n",
       "    <tr>\n",
       "      <th>2915</th>\n",
       "      <td>2915</td>\n",
       "      <td>2018-12-31 11:00:00</td>\n",
       "      <td>2019-01-02 09:00:00</td>\n",
       "      <td>-2.0</td>\n",
       "      <td>1.0</td>\n",
       "      <td>0.0</td>\n",
       "      <td>0.0</td>\n",
       "      <td>70.0</td>\n",
       "      <td>5.1</td>\n",
       "      <td>313.0</td>\n",
       "    </tr>\n",
       "    <tr>\n",
       "      <th>2916</th>\n",
       "      <td>2916</td>\n",
       "      <td>2018-12-31 14:00:00</td>\n",
       "      <td>2019-01-02 12:00:00</td>\n",
       "      <td>-3.0</td>\n",
       "      <td>1.0</td>\n",
       "      <td>0.0</td>\n",
       "      <td>0.0</td>\n",
       "      <td>75.0</td>\n",
       "      <td>6.3</td>\n",
       "      <td>312.0</td>\n",
       "    </tr>\n",
       "    <tr>\n",
       "      <th>2917</th>\n",
       "      <td>2917</td>\n",
       "      <td>2018-12-31 17:00:00</td>\n",
       "      <td>2019-01-02 15:00:00</td>\n",
       "      <td>-3.0</td>\n",
       "      <td>1.0</td>\n",
       "      <td>0.0</td>\n",
       "      <td>0.0</td>\n",
       "      <td>85.0</td>\n",
       "      <td>6.9</td>\n",
       "      <td>326.0</td>\n",
       "    </tr>\n",
       "    <tr>\n",
       "      <th>2918</th>\n",
       "      <td>2918</td>\n",
       "      <td>2018-12-31 20:00:00</td>\n",
       "      <td>2019-01-02 18:00:00</td>\n",
       "      <td>-5.0</td>\n",
       "      <td>1.0</td>\n",
       "      <td>0.0</td>\n",
       "      <td>0.0</td>\n",
       "      <td>80.0</td>\n",
       "      <td>6.5</td>\n",
       "      <td>328.0</td>\n",
       "    </tr>\n",
       "    <tr>\n",
       "      <th>2919</th>\n",
       "      <td>2919</td>\n",
       "      <td>2018-12-31 23:00:00</td>\n",
       "      <td>2019-01-02 21:00:00</td>\n",
       "      <td>-6.0</td>\n",
       "      <td>1.0</td>\n",
       "      <td>0.0</td>\n",
       "      <td>0.0</td>\n",
       "      <td>80.0</td>\n",
       "      <td>5.7</td>\n",
       "      <td>333.0</td>\n",
       "    </tr>\n",
       "  </tbody>\n",
       "</table>\n",
       "</div>"
      ],
      "text/plain": [
       "      Unnamed: 0     time(prediction)      time(46H later)  temperature_3H  \\\n",
       "2915        2915  2018-12-31 11:00:00  2019-01-02 09:00:00            -2.0   \n",
       "2916        2916  2018-12-31 14:00:00  2019-01-02 12:00:00            -3.0   \n",
       "2917        2917  2018-12-31 17:00:00  2019-01-02 15:00:00            -3.0   \n",
       "2918        2918  2018-12-31 20:00:00  2019-01-02 18:00:00            -5.0   \n",
       "2919        2919  2018-12-31 23:00:00  2019-01-02 21:00:00            -6.0   \n",
       "\n",
       "      sky  precipitation_form  rainfall_probability  humidity  wind_speed  \\\n",
       "2915  1.0                 0.0                   0.0      70.0         5.1   \n",
       "2916  1.0                 0.0                   0.0      75.0         6.3   \n",
       "2917  1.0                 0.0                   0.0      85.0         6.9   \n",
       "2918  1.0                 0.0                   0.0      80.0         6.5   \n",
       "2919  1.0                 0.0                   0.0      80.0         5.7   \n",
       "\n",
       "      wind_direction  \n",
       "2915           313.0  \n",
       "2916           312.0  \n",
       "2917           326.0  \n",
       "2918           328.0  \n",
       "2919           333.0  "
      ]
     },
     "execution_count": 15,
     "metadata": {},
     "output_type": "execute_result"
    }
   ],
   "source": [
    "data_forecast.tail()"
   ]
  },
  {
   "cell_type": "code",
   "execution_count": 26,
   "metadata": {},
   "outputs": [
    {
     "data": {
      "text/html": [
       "<div>\n",
       "<style scoped>\n",
       "    .dataframe tbody tr th:only-of-type {\n",
       "        vertical-align: middle;\n",
       "    }\n",
       "\n",
       "    .dataframe tbody tr th {\n",
       "        vertical-align: top;\n",
       "    }\n",
       "\n",
       "    .dataframe thead th {\n",
       "        text-align: right;\n",
       "    }\n",
       "</style>\n",
       "<table border=\"1\" class=\"dataframe\">\n",
       "  <thead>\n",
       "    <tr style=\"text-align: right;\">\n",
       "      <th></th>\n",
       "      <th>time</th>\n",
       "      <th>temperature_3H</th>\n",
       "      <th>sky</th>\n",
       "      <th>rainfall_probability</th>\n",
       "      <th>humidity</th>\n",
       "      <th>wind_speed</th>\n",
       "      <th>wind_direction</th>\n",
       "    </tr>\n",
       "  </thead>\n",
       "  <tbody>\n",
       "    <tr>\n",
       "      <th>35024</th>\n",
       "      <td>2019-01-02 20:00:00</td>\n",
       "      <td>-5.843447</td>\n",
       "      <td>1.000022</td>\n",
       "      <td>0.000220</td>\n",
       "      <td>78.984041</td>\n",
       "      <td>6.000419</td>\n",
       "      <td>330.615064</td>\n",
       "    </tr>\n",
       "    <tr>\n",
       "      <th>35025</th>\n",
       "      <td>2019-01-02 20:15:00</td>\n",
       "      <td>-5.899159</td>\n",
       "      <td>1.000019</td>\n",
       "      <td>0.000186</td>\n",
       "      <td>79.142784</td>\n",
       "      <td>5.928478</td>\n",
       "      <td>331.143960</td>\n",
       "    </tr>\n",
       "    <tr>\n",
       "      <th>35026</th>\n",
       "      <td>2019-01-02 20:30:00</td>\n",
       "      <td>-5.943821</td>\n",
       "      <td>1.000014</td>\n",
       "      <td>0.000138</td>\n",
       "      <td>79.365025</td>\n",
       "      <td>5.854428</td>\n",
       "      <td>331.717748</td>\n",
       "    </tr>\n",
       "    <tr>\n",
       "      <th>35027</th>\n",
       "      <td>2019-01-02 20:45:00</td>\n",
       "      <td>-5.977435</td>\n",
       "      <td>1.000008</td>\n",
       "      <td>0.000076</td>\n",
       "      <td>79.650764</td>\n",
       "      <td>5.778269</td>\n",
       "      <td>332.336428</td>\n",
       "    </tr>\n",
       "    <tr>\n",
       "      <th>35028</th>\n",
       "      <td>2019-01-02 21:00:00</td>\n",
       "      <td>-6.000000</td>\n",
       "      <td>1.000000</td>\n",
       "      <td>0.000000</td>\n",
       "      <td>80.000000</td>\n",
       "      <td>5.700000</td>\n",
       "      <td>333.000000</td>\n",
       "    </tr>\n",
       "  </tbody>\n",
       "</table>\n",
       "</div>"
      ],
      "text/plain": [
       "                     time  temperature_3H       sky  rainfall_probability  \\\n",
       "35024 2019-01-02 20:00:00       -5.843447  1.000022              0.000220   \n",
       "35025 2019-01-02 20:15:00       -5.899159  1.000019              0.000186   \n",
       "35026 2019-01-02 20:30:00       -5.943821  1.000014              0.000138   \n",
       "35027 2019-01-02 20:45:00       -5.977435  1.000008              0.000076   \n",
       "35028 2019-01-02 21:00:00       -6.000000  1.000000              0.000000   \n",
       "\n",
       "        humidity  wind_speed  wind_direction  \n",
       "35024  78.984041    6.000419      330.615064  \n",
       "35025  79.142784    5.928478      331.143960  \n",
       "35026  79.365025    5.854428      331.717748  \n",
       "35027  79.650764    5.778269      332.336428  \n",
       "35028  80.000000    5.700000      333.000000  "
      ]
     },
     "execution_count": 26,
     "metadata": {},
     "output_type": "execute_result"
    }
   ],
   "source": [
    "# make forecast\n",
    "data_forecast = pd.read_csv('data_forecast_2018_02.csv')\n",
    "data_forecast.drop(['Unnamed: 0'], axis=1, inplace=True)\n",
    "\n",
    "# make index\n",
    "data_forecast.index = data_forecast['time(46H later)']\n",
    "data_forecast.index = pd.to_datetime(data_forecast.index).values\n",
    "\n",
    "# resample\n",
    "data_forecast = data_forecast.resample('15min').interpolate(method='quadratic')\n",
    "\n",
    "# drop columns\n",
    "data_forecast.drop(['time(prediction)', 'time(46H later)', 'precipitation_form'], axis=1, inplace=True)\n",
    "data_forecast.reset_index(inplace=True)\n",
    "\n",
    "# change columns\n",
    "data_forecast.columns = ['time', 'temperature_3H', 'sky', \n",
    "                         'rainfall_probability', 'humidity', 'wind_speed', 'wind_direction']\n",
    "\n",
    "data_forecast.tail()"
   ]
  },
  {
   "cell_type": "code",
   "execution_count": 27,
   "metadata": {},
   "outputs": [],
   "source": [
    "# data_forecast.to_pickle('data_forecast_2018_04.pkl')"
   ]
  },
  {
   "cell_type": "markdown",
   "metadata": {},
   "source": [
    "---"
   ]
  },
  {
   "cell_type": "code",
   "execution_count": 31,
   "metadata": {},
   "outputs": [
    {
     "data": {
      "text/html": [
       "<div>\n",
       "<style scoped>\n",
       "    .dataframe tbody tr th:only-of-type {\n",
       "        vertical-align: middle;\n",
       "    }\n",
       "\n",
       "    .dataframe tbody tr th {\n",
       "        vertical-align: top;\n",
       "    }\n",
       "\n",
       "    .dataframe thead th {\n",
       "        text-align: right;\n",
       "    }\n",
       "</style>\n",
       "<table border=\"1\" class=\"dataframe\">\n",
       "  <thead>\n",
       "    <tr style=\"text-align: right;\">\n",
       "      <th></th>\n",
       "      <th>time</th>\n",
       "      <th>temperature_3H</th>\n",
       "      <th>sky</th>\n",
       "      <th>rainfall_probability</th>\n",
       "      <th>humidity</th>\n",
       "      <th>wind_speed</th>\n",
       "      <th>wind_direction</th>\n",
       "    </tr>\n",
       "  </thead>\n",
       "  <tbody>\n",
       "    <tr>\n",
       "      <th>35024</th>\n",
       "      <td>2019-01-01 08:00:00</td>\n",
       "      <td>-1.482848</td>\n",
       "      <td>2.646518</td>\n",
       "      <td>16.465177</td>\n",
       "      <td>59.970882</td>\n",
       "      <td>9.805710</td>\n",
       "      <td>304.590926</td>\n",
       "    </tr>\n",
       "    <tr>\n",
       "      <th>35025</th>\n",
       "      <td>2019-01-01 08:15:00</td>\n",
       "      <td>-1.813653</td>\n",
       "      <td>2.514249</td>\n",
       "      <td>15.142493</td>\n",
       "      <td>61.069181</td>\n",
       "      <td>9.836068</td>\n",
       "      <td>304.467344</td>\n",
       "    </tr>\n",
       "    <tr>\n",
       "      <th>35026</th>\n",
       "      <td>2019-01-01 08:30:00</td>\n",
       "      <td>-2.176780</td>\n",
       "      <td>2.362407</td>\n",
       "      <td>13.624069</td>\n",
       "      <td>62.273468</td>\n",
       "      <td>9.861902</td>\n",
       "      <td>304.327662</td>\n",
       "    </tr>\n",
       "    <tr>\n",
       "      <th>35027</th>\n",
       "      <td>2019-01-01 08:45:00</td>\n",
       "      <td>-2.572229</td>\n",
       "      <td>2.190990</td>\n",
       "      <td>11.909905</td>\n",
       "      <td>63.583741</td>\n",
       "      <td>9.883213</td>\n",
       "      <td>304.171881</td>\n",
       "    </tr>\n",
       "    <tr>\n",
       "      <th>35028</th>\n",
       "      <td>2019-01-01 09:00:00</td>\n",
       "      <td>-3.000000</td>\n",
       "      <td>2.000000</td>\n",
       "      <td>10.000000</td>\n",
       "      <td>65.000000</td>\n",
       "      <td>9.900000</td>\n",
       "      <td>304.000000</td>\n",
       "    </tr>\n",
       "  </tbody>\n",
       "</table>\n",
       "</div>"
      ],
      "text/plain": [
       "                     time  temperature_3H       sky  rainfall_probability  \\\n",
       "35024 2019-01-01 08:00:00       -1.482848  2.646518             16.465177   \n",
       "35025 2019-01-01 08:15:00       -1.813653  2.514249             15.142493   \n",
       "35026 2019-01-01 08:30:00       -2.176780  2.362407             13.624069   \n",
       "35027 2019-01-01 08:45:00       -2.572229  2.190990             11.909905   \n",
       "35028 2019-01-01 09:00:00       -3.000000  2.000000             10.000000   \n",
       "\n",
       "        humidity  wind_speed  wind_direction  \n",
       "35024  59.970882    9.805710      304.590926  \n",
       "35025  61.069181    9.836068      304.467344  \n",
       "35026  62.273468    9.861902      304.327662  \n",
       "35027  63.583741    9.883213      304.171881  \n",
       "35028  65.000000    9.900000      304.000000  "
      ]
     },
     "execution_count": 31,
     "metadata": {},
     "output_type": "execute_result"
    }
   ],
   "source": [
    "data_forecast = pd.read_pickle('data_forecast_2018_8AM_01.pkl')\n",
    "\n",
    "# make index\n",
    "data_forecast.index = data_forecast['time(predicted)']\n",
    "\n",
    "data_forecast.index = pd.to_datetime(data_forecast.index).values\n",
    "data_forecast = data_forecast.resample('15min').interpolate(method='quadratic')\n",
    "\n",
    "# drop columns\n",
    "data_forecast.drop(['time(predicted)', 'day', 'forecast'], axis=1, inplace=True)\n",
    "data_forecast.reset_index(inplace=True)\n",
    "\n",
    "# change columns\n",
    "data_forecast.columns = ['time', 'temperature_3H', 'sky', \n",
    "                         'rainfall_probability', 'humidity', 'wind_speed', 'wind_direction']\n",
    "\n",
    "data_forecast.tail()"
   ]
  },
  {
   "cell_type": "code",
   "execution_count": 32,
   "metadata": {},
   "outputs": [],
   "source": [
    "# data_forecast.to_pickle('data_forecast_2018_8AM_02.pkl')"
   ]
  },
  {
   "cell_type": "code",
   "execution_count": null,
   "metadata": {},
   "outputs": [],
   "source": []
  },
  {
   "cell_type": "markdown",
   "metadata": {},
   "source": [
    "### insolartion"
   ]
  },
  {
   "cell_type": "code",
   "execution_count": 3,
   "metadata": {},
   "outputs": [
    {
     "data": {
      "text/html": [
       "<div>\n",
       "<style scoped>\n",
       "    .dataframe tbody tr th:only-of-type {\n",
       "        vertical-align: middle;\n",
       "    }\n",
       "\n",
       "    .dataframe tbody tr th {\n",
       "        vertical-align: top;\n",
       "    }\n",
       "\n",
       "    .dataframe thead th {\n",
       "        text-align: right;\n",
       "    }\n",
       "</style>\n",
       "<table border=\"1\" class=\"dataframe\">\n",
       "  <thead>\n",
       "    <tr style=\"text-align: right;\">\n",
       "      <th></th>\n",
       "      <th>time</th>\n",
       "      <th>경사일사량</th>\n",
       "      <th>수평일사량</th>\n",
       "    </tr>\n",
       "  </thead>\n",
       "  <tbody>\n",
       "    <tr>\n",
       "      <th>0</th>\n",
       "      <td>2018-03-01 00:15:00</td>\n",
       "      <td>0</td>\n",
       "      <td>0</td>\n",
       "    </tr>\n",
       "    <tr>\n",
       "      <th>1</th>\n",
       "      <td>2018-03-01 00:30:00</td>\n",
       "      <td>0</td>\n",
       "      <td>0</td>\n",
       "    </tr>\n",
       "    <tr>\n",
       "      <th>2</th>\n",
       "      <td>2018-03-01 00:45:00</td>\n",
       "      <td>0</td>\n",
       "      <td>0</td>\n",
       "    </tr>\n",
       "    <tr>\n",
       "      <th>3</th>\n",
       "      <td>2018-03-01 01:00:00</td>\n",
       "      <td>0</td>\n",
       "      <td>0</td>\n",
       "    </tr>\n",
       "    <tr>\n",
       "      <th>4</th>\n",
       "      <td>2018-03-01 01:15:00</td>\n",
       "      <td>0</td>\n",
       "      <td>0</td>\n",
       "    </tr>\n",
       "  </tbody>\n",
       "</table>\n",
       "</div>"
      ],
      "text/plain": [
       "                 time 경사일사량 수평일사량\n",
       "0 2018-03-01 00:15:00     0     0\n",
       "1 2018-03-01 00:30:00     0     0\n",
       "2 2018-03-01 00:45:00     0     0\n",
       "3 2018-03-01 01:00:00     0     0\n",
       "4 2018-03-01 01:15:00     0     0"
      ]
     },
     "execution_count": 3,
     "metadata": {},
     "output_type": "execute_result"
    }
   ],
   "source": [
    "data_solar.head()"
   ]
  },
  {
   "cell_type": "markdown",
   "metadata": {},
   "source": [
    "### weather(actual)"
   ]
  },
  {
   "cell_type": "code",
   "execution_count": 4,
   "metadata": {},
   "outputs": [
    {
     "data": {
      "text/html": [
       "<div>\n",
       "<style scoped>\n",
       "    .dataframe tbody tr th:only-of-type {\n",
       "        vertical-align: middle;\n",
       "    }\n",
       "\n",
       "    .dataframe tbody tr th {\n",
       "        vertical-align: top;\n",
       "    }\n",
       "\n",
       "    .dataframe thead th {\n",
       "        text-align: right;\n",
       "    }\n",
       "</style>\n",
       "<table border=\"1\" class=\"dataframe\">\n",
       "  <thead>\n",
       "    <tr style=\"text-align: right;\">\n",
       "      <th></th>\n",
       "      <th>index</th>\n",
       "      <th>기온(°C)</th>\n",
       "      <th>강수량(mm)</th>\n",
       "      <th>풍속(m/s)</th>\n",
       "      <th>풍향(16방위)</th>\n",
       "      <th>습도(%)</th>\n",
       "      <th>현지기압(hPa)</th>\n",
       "      <th>일조(hr)</th>\n",
       "      <th>일사(MJ/m2)</th>\n",
       "      <th>적설(cm)</th>\n",
       "      <th>전운량(10분위)</th>\n",
       "    </tr>\n",
       "  </thead>\n",
       "  <tbody>\n",
       "    <tr>\n",
       "      <th>0</th>\n",
       "      <td>2018-03-01 00:00:00</td>\n",
       "      <td>3.1</td>\n",
       "      <td>0.5</td>\n",
       "      <td>3.6</td>\n",
       "      <td>340</td>\n",
       "      <td>96.0</td>\n",
       "      <td>1001.3</td>\n",
       "      <td>NaN</td>\n",
       "      <td>NaN</td>\n",
       "      <td>NaN</td>\n",
       "      <td>NaN</td>\n",
       "    </tr>\n",
       "    <tr>\n",
       "      <th>1</th>\n",
       "      <td>2018-03-01 01:00:00</td>\n",
       "      <td>2.8</td>\n",
       "      <td>NaN</td>\n",
       "      <td>0.7</td>\n",
       "      <td>140</td>\n",
       "      <td>97.0</td>\n",
       "      <td>1001.9</td>\n",
       "      <td>NaN</td>\n",
       "      <td>NaN</td>\n",
       "      <td>NaN</td>\n",
       "      <td>NaN</td>\n",
       "    </tr>\n",
       "    <tr>\n",
       "      <th>2</th>\n",
       "      <td>2018-03-01 02:00:00</td>\n",
       "      <td>2.6</td>\n",
       "      <td>NaN</td>\n",
       "      <td>3.2</td>\n",
       "      <td>320</td>\n",
       "      <td>95.0</td>\n",
       "      <td>1002.6</td>\n",
       "      <td>NaN</td>\n",
       "      <td>NaN</td>\n",
       "      <td>NaN</td>\n",
       "      <td>NaN</td>\n",
       "    </tr>\n",
       "    <tr>\n",
       "      <th>3</th>\n",
       "      <td>2018-03-01 03:00:00</td>\n",
       "      <td>2.0</td>\n",
       "      <td>NaN</td>\n",
       "      <td>1.9</td>\n",
       "      <td>230</td>\n",
       "      <td>97.0</td>\n",
       "      <td>1002.8</td>\n",
       "      <td>NaN</td>\n",
       "      <td>NaN</td>\n",
       "      <td>NaN</td>\n",
       "      <td>NaN</td>\n",
       "    </tr>\n",
       "    <tr>\n",
       "      <th>4</th>\n",
       "      <td>2018-03-01 04:00:00</td>\n",
       "      <td>2.2</td>\n",
       "      <td>NaN</td>\n",
       "      <td>2.1</td>\n",
       "      <td>180</td>\n",
       "      <td>97.0</td>\n",
       "      <td>1003.0</td>\n",
       "      <td>NaN</td>\n",
       "      <td>NaN</td>\n",
       "      <td>NaN</td>\n",
       "      <td>NaN</td>\n",
       "    </tr>\n",
       "  </tbody>\n",
       "</table>\n",
       "</div>"
      ],
      "text/plain": [
       "                index  기온(°C)  강수량(mm)  풍속(m/s)  풍향(16방위)  습도(%)  현지기압(hPa)  \\\n",
       "0 2018-03-01 00:00:00     3.1      0.5      3.6       340   96.0     1001.3   \n",
       "1 2018-03-01 01:00:00     2.8      NaN      0.7       140   97.0     1001.9   \n",
       "2 2018-03-01 02:00:00     2.6      NaN      3.2       320   95.0     1002.6   \n",
       "3 2018-03-01 03:00:00     2.0      NaN      1.9       230   97.0     1002.8   \n",
       "4 2018-03-01 04:00:00     2.2      NaN      2.1       180   97.0     1003.0   \n",
       "\n",
       "   일조(hr)  일사(MJ/m2)  적설(cm)  전운량(10분위)  \n",
       "0     NaN        NaN     NaN        NaN  \n",
       "1     NaN        NaN     NaN        NaN  \n",
       "2     NaN        NaN     NaN        NaN  \n",
       "3     NaN        NaN     NaN        NaN  \n",
       "4     NaN        NaN     NaN        NaN  "
      ]
     },
     "execution_count": 4,
     "metadata": {},
     "output_type": "execute_result"
    }
   ],
   "source": [
    "data_weather.head()"
   ]
  },
  {
   "cell_type": "code",
   "execution_count": 5,
   "metadata": {},
   "outputs": [],
   "source": [
    "data_weather.index = data_weather['index']\n",
    "data_weather.drop(['index'], axis=1, inplace=True)\n",
    "data_weather.reset_index(inplace=True)\n",
    "data_weather = data_weather[['index', '전운량(10분위)']]\n",
    "\n",
    "data_weather.columns = ['time', 'cloud']\n",
    "data_weather.dropna(inplace=True)"
   ]
  },
  {
   "cell_type": "code",
   "execution_count": null,
   "metadata": {},
   "outputs": [],
   "source": []
  },
  {
   "cell_type": "markdown",
   "metadata": {},
   "source": [
    "### weather (forecast)"
   ]
  },
  {
   "cell_type": "code",
   "execution_count": 194,
   "metadata": {},
   "outputs": [
    {
     "data": {
      "text/html": [
       "<div>\n",
       "<style scoped>\n",
       "    .dataframe tbody tr th:only-of-type {\n",
       "        vertical-align: middle;\n",
       "    }\n",
       "\n",
       "    .dataframe tbody tr th {\n",
       "        vertical-align: top;\n",
       "    }\n",
       "\n",
       "    .dataframe thead th {\n",
       "        text-align: right;\n",
       "    }\n",
       "</style>\n",
       "<table border=\"1\" class=\"dataframe\">\n",
       "  <thead>\n",
       "    <tr style=\"text-align: right;\">\n",
       "      <th></th>\n",
       "      <th>time</th>\n",
       "      <th>temperature</th>\n",
       "      <th>rainfall</th>\n",
       "      <th>wind_direction</th>\n",
       "      <th>wind_speed</th>\n",
       "      <th>humidity</th>\n",
       "      <th>현지기압(hPa)</th>\n",
       "      <th>해면기압(hPa)</th>\n",
       "      <th>일누적일사(MJ/m^2)</th>\n",
       "      <th>일누적일조(Sec)</th>\n",
       "    </tr>\n",
       "  </thead>\n",
       "  <tbody>\n",
       "    <tr>\n",
       "      <th>558158</th>\n",
       "      <td>2018-12-31 23:55:00</td>\n",
       "      <td>-1.5</td>\n",
       "      <td>0.0</td>\n",
       "      <td>북풍</td>\n",
       "      <td>2.1</td>\n",
       "      <td>64.2</td>\n",
       "      <td>1032.5</td>\n",
       "      <td>1035.9</td>\n",
       "      <td>11.32</td>\n",
       "      <td>31920.0</td>\n",
       "    </tr>\n",
       "    <tr>\n",
       "      <th>558159</th>\n",
       "      <td>2018-12-31 23:56:00</td>\n",
       "      <td>-1.5</td>\n",
       "      <td>0.0</td>\n",
       "      <td>북풍</td>\n",
       "      <td>2.7</td>\n",
       "      <td>64.1</td>\n",
       "      <td>1032.6</td>\n",
       "      <td>1036.0</td>\n",
       "      <td>11.32</td>\n",
       "      <td>31920.0</td>\n",
       "    </tr>\n",
       "    <tr>\n",
       "      <th>558160</th>\n",
       "      <td>2018-12-31 23:57:00</td>\n",
       "      <td>-1.5</td>\n",
       "      <td>0.0</td>\n",
       "      <td>북풍</td>\n",
       "      <td>2.6</td>\n",
       "      <td>64.0</td>\n",
       "      <td>1032.6</td>\n",
       "      <td>1036.0</td>\n",
       "      <td>11.32</td>\n",
       "      <td>31920.0</td>\n",
       "    </tr>\n",
       "    <tr>\n",
       "      <th>558161</th>\n",
       "      <td>2018-12-31 23:58:00</td>\n",
       "      <td>-1.4</td>\n",
       "      <td>0.0</td>\n",
       "      <td>북풍</td>\n",
       "      <td>2.2</td>\n",
       "      <td>63.8</td>\n",
       "      <td>1032.6</td>\n",
       "      <td>1035.9</td>\n",
       "      <td>11.32</td>\n",
       "      <td>31920.0</td>\n",
       "    </tr>\n",
       "    <tr>\n",
       "      <th>558162</th>\n",
       "      <td>2018-12-31 23:59:00</td>\n",
       "      <td>-1.4</td>\n",
       "      <td>0.0</td>\n",
       "      <td>북풍</td>\n",
       "      <td>2.6</td>\n",
       "      <td>63.6</td>\n",
       "      <td>1032.6</td>\n",
       "      <td>1035.9</td>\n",
       "      <td>11.32</td>\n",
       "      <td>31920.0</td>\n",
       "    </tr>\n",
       "  </tbody>\n",
       "</table>\n",
       "</div>"
      ],
      "text/plain": [
       "                      time  temperature  rainfall wind_direction  wind_speed  \\\n",
       "558158 2018-12-31 23:55:00         -1.5       0.0             북풍         2.1   \n",
       "558159 2018-12-31 23:56:00         -1.5       0.0             북풍         2.7   \n",
       "558160 2018-12-31 23:57:00         -1.5       0.0             북풍         2.6   \n",
       "558161 2018-12-31 23:58:00         -1.4       0.0             북풍         2.2   \n",
       "558162 2018-12-31 23:59:00         -1.4       0.0             북풍         2.6   \n",
       "\n",
       "        humidity  현지기압(hPa)  해면기압(hPa)  일누적일사(MJ/m^2)  일누적일조(Sec)  \n",
       "558158      64.2     1032.5     1035.9          11.32     31920.0  \n",
       "558159      64.1     1032.6     1036.0          11.32     31920.0  \n",
       "558160      64.0     1032.6     1036.0          11.32     31920.0  \n",
       "558161      63.8     1032.6     1035.9          11.32     31920.0  \n",
       "558162      63.6     1032.6     1035.9          11.32     31920.0  "
      ]
     },
     "execution_count": 194,
     "metadata": {},
     "output_type": "execute_result"
    }
   ],
   "source": [
    "data_weather = pd.read_pickle('C:/Users/ewpadmin/JIHYUN/df_temp_0208.pkl')\n",
    "data_weather.reset_index(inplace=True, drop=True)\n",
    "data_weather.columns = ['time', 'temperature', 'rainfall', 'wind_direction', 'wind_speed', 'humidity', \n",
    "                        '현지기압(hPa)', '해면기압(hPa)', '일누적일사(MJ/m^2)', '일누적일조(Sec)']\n",
    "data_weather.tail()"
   ]
  },
  {
   "cell_type": "code",
   "execution_count": 7,
   "metadata": {},
   "outputs": [],
   "source": [
    "method_name = ['nearest', 'zero', 'quadratic', 'cubic', 'spline', 'barycentric']\n",
    "\n",
    "method_name_two = ['slinear', 'polynomial']"
   ]
  },
  {
   "cell_type": "code",
   "execution_count": 2,
   "metadata": {},
   "outputs": [],
   "source": [
    "def make_dataset(method='linear', order=2, weather=2, AM=False):\n",
    "    \n",
    "    # make solar\n",
    "    data_solar = pd.read_pickle('A_site_solar_Data_concat_02.pkl')\n",
    "    \n",
    "    # make actual(1min)\n",
    "    if weather == 0:\n",
    "        data_weather = pd.read_pickle('C:/Users/ewpadmin/JDY/df_temp_dropna_0208.pkl')\n",
    "\n",
    "        # reset index\n",
    "        data_weather.reset_index(inplace=True, drop=True)\n",
    "        \n",
    "        # drop feature - 해면기압, 일누적일사, 일누적일조\n",
    "        data_weather.drop(['해면기압(hPa)', '일누적일사(MJ/m^2)', '일누적일조(Sec)'], axis=1, inplace=True)\n",
    "\n",
    "        # change column name\n",
    "        data_weather.columns = ['time', 'temperature', 'rainfall', 'wind_direction', 'wind_speed', 'humidity', \n",
    "                                'airpressure']\n",
    "\n",
    "        # change wind_dirction standard\n",
    "        imputer = {'북풍': 0, '북동풍': 1, '동풍': 2, '남동풍': 3, '남풍': 4, '남서풍': 5, '서풍': 6, '북서풍': 7}\n",
    "        data_weather.wind_direction = data_weather.wind_direction.apply(lambda x : imputer[x])\n",
    "\n",
    "        # merge dataset\n",
    "        data_merge = pd.merge(data_solar, data_weather, on='time')\n",
    "        \n",
    "    # make actual (1H)\n",
    "    elif weather == 1:\n",
    "        # load dataset\n",
    "        data_weather = pd.read_pickle('A_site_weather_Data_concat_02.pkl')\n",
    "        data_weather.index = data_weather['index']\n",
    "\n",
    "        # resampling\n",
    "        if (method == 'slinear') or (method == 'polynomial'):\n",
    "            data_weather = data_weather.resample('15min').interpolate(method=method, order=order)\n",
    "        else:\n",
    "            data_weather = data_weather.resample('15min').interpolate(method=method)\n",
    "\n",
    "        data_weather.drop(['index'], axis=1, inplace=True)\n",
    "        data_weather.reset_index(inplace=True)\n",
    "        data_weather.dropna(inplace=True)\n",
    "        \n",
    "        # drop feature - 현지기압, 일조, 일사, 적설\n",
    "        data_weather.drop(['현지기압(hPa)', '일조(hr)', '일사(MJ/m2)', '적설(cm)'], axis=1, inplace=True)\n",
    "        \n",
    "        # change columns\n",
    "        data_weather.columns = ['time', 'temperature', 'rainfall', 'wind_speed', 'wind_direction', 'humidity', 'cloud']\n",
    "        \n",
    "        # merge dataset\n",
    "        data_merge = pd.merge(data_solar, data_weather, on='time')\n",
    "        \n",
    "    # make forecast\n",
    "    elif weather == 2:\n",
    "        if AM:\n",
    "            data_forecast = pd.read_pickle('data_forecast_2018_8AM_01.pkl')\n",
    "\n",
    "            # make index\n",
    "            data_forecast.index = data_forecast['time(predicted)']\n",
    "            data_forecast.index = pd.to_datetime(data_forecast.index).values\n",
    "\n",
    "            # resample\n",
    "            if (method == 'slinear') or (method == 'polynomial'):\n",
    "                data_forecast = data_forecast.resample('15min').interpolate(method=method, order=order)\n",
    "            else:\n",
    "                data_forecast = data_forecast.resample('15min').interpolate(method=method)\n",
    "\n",
    "            # drop columns\n",
    "            data_forecast.drop(['time(predicted)', 'day', 'forecast'], axis=1, inplace=True)\n",
    "            data_forecast.reset_index(inplace=True)\n",
    "\n",
    "            # change columns\n",
    "            data_forecast.columns = ['time', 'temperature_3H', 'sky', \n",
    "                                     'rainfall_probability', 'humidity', 'wind_speed', 'wind_direction']\n",
    "        else:\n",
    "            # make forecast\n",
    "            data_forecast = pd.read_csv('data_forecast_2018_02.csv')\n",
    "            data_forecast.drop(['Unnamed: 0'], axis=1, inplace=True)\n",
    "\n",
    "            # make index\n",
    "            data_forecast.index = data_forecast['time(46H later)']\n",
    "            data_forecast.index = pd.to_datetime(data_forecast.index).values\n",
    "\n",
    "            # resample\n",
    "            if (method == 'slinear') or (method == 'polynomial'):\n",
    "                data_forecast = data_forecast.resample('15min').interpolate(method=method, order=order)\n",
    "            else:\n",
    "                data_forecast = data_forecast.resample('15min').interpolate(method=method)\n",
    "\n",
    "            # drop columns\n",
    "            data_forecast.drop(['time(prediction)', 'time(46H later)', 'precipitation_form'], axis=1, inplace=True)\n",
    "            data_forecast.reset_index(inplace=True)\n",
    "\n",
    "            # change columns\n",
    "            data_forecast.columns = ['time', 'temperature_3H', 'sky', \n",
    "                                     'rainfall_probability', 'humidity', 'wind_speed', 'wind_direction']\n",
    "        # merge dataset\n",
    "        data_merge = pd.merge(data_solar, data_forecast, on='time')\n",
    "    else:\n",
    "        print(\"No Option.\")\n",
    "    \n",
    "    print(data_merge.shape)\n",
    "    return data_merge\n",
    "\n",
    "def preprocessing_1(data_raw):\n",
    "\n",
    "    # change dtypes\n",
    "    data_raw['경사일사량'] = data_raw['경사일사량'].astype(np.float64)\n",
    "    data_raw['수평일사량'] = data_raw['수평일사량'].astype(np.float64)\n",
    "    data_raw.time = data_raw.time.astype(str)\n",
    "\n",
    "    # make variable\n",
    "    data_raw['date'] = data_raw.time.apply(lambda x : x.split(' ')[0])\n",
    "    data_raw['exact_time'] = data_raw.time.apply(lambda x : x.split(' ')[1])\n",
    "\n",
    "    data_raw['month'] = data_raw.date.apply(lambda x : x.split('-')[1])\n",
    "    data_raw['day'] = data_raw.date.apply(lambda x : x.split('-')[2])\n",
    "    data_raw['hour'] = data_raw.exact_time.apply(lambda x : x.split(':')[0])\n",
    "    data_raw['minute'] = data_raw.exact_time.apply(lambda x : x.split(':')[1])\n",
    "\n",
    "    # delete variable - time, date, exact_time\n",
    "    data_raw.drop(['time', 'date', 'exact_time'], axis=1, inplace=True)\n",
    "\n",
    "    # change dtypes\n",
    "    data_raw.month = data_raw.month.astype(np.float64)\n",
    "    data_raw.day = data_raw.day.astype(np.float64)\n",
    "    data_raw.hour = data_raw.hour.astype(np.float64)\n",
    "    data_raw.minute = data_raw.minute.astype(np.float64)\n",
    "\n",
    "    # change columns name\n",
    "    data_raw['insolation_vertical'] = data_raw['경사일사량']\n",
    "    data_raw['insolation_horizontal'] = data_raw['수평일사량']\n",
    "    data_raw.drop(['경사일사량', '수평일사량'], axis=1, inplace=True)\n",
    "    \n",
    "    return data_raw\n",
    "\n",
    "# preprocessing II : make X, y // train, text // scaling\n",
    "def preprocessing_2(data_raw, horizontal=True, scaling=True, test_size=0.25):\n",
    "    \n",
    "    # make X, y\n",
    "    X = data_raw.drop(['insolation_vertical', 'insolation_horizontal'], axis=1)\n",
    "    \n",
    "    if horizontal:\n",
    "        y = data_raw[['insolation_horizontal']]\n",
    "    else:\n",
    "        y = data_raw[['insolation_vertical']]\n",
    "    \n",
    "    # train, test split\n",
    "    X_train, X_test, y_train, y_test = train_test_split(X, y, test_size=test_size)\n",
    "    \n",
    "    # scaling\n",
    "    mms = MinMaxScaler()\n",
    "    X_sc = mms.fit_transform(X)\n",
    "    y_sc = mms.fit_transform(y)\n",
    "    \n",
    "    X_train_sc = mms.fit_transform(X_train)\n",
    "    X_test_sc = mms.transform(X_test)\n",
    "    y_train_sc = mms.fit_transform(y_train)\n",
    "    y_test_sc = mms.transform(y_test)    \n",
    "          \n",
    "    # reshape y_train, y_test\n",
    "    n = y_train_sc.shape[0]\n",
    "    y_train_sc = y_train_sc.reshape(n,)\n",
    "    n = y_test_sc.shape[0]\n",
    "    y_test_sc = y_test_sc.reshape(n,)\n",
    "\n",
    "    return X_train_sc, X_test_sc, y_train_sc, y_test_sc, X_sc, y_sc"
   ]
  },
  {
   "cell_type": "markdown",
   "metadata": {},
   "source": [
    "---"
   ]
  },
  {
   "cell_type": "markdown",
   "metadata": {},
   "source": [
    "### make dataset(with preprocessing)"
   ]
  },
  {
   "cell_type": "code",
   "execution_count": 265,
   "metadata": {},
   "outputs": [
    {
     "name": "stdout",
     "output_type": "stream",
     "text": [
      "actual(1min)\n",
      "(23783, 9)\n"
     ]
    },
    {
     "name": "stderr",
     "output_type": "stream",
     "text": [
      "C:\\Anaconda\\lib\\site-packages\\sklearn\\model_selection\\_validation.py:458: DataConversionWarning: A column-vector y was passed when a 1d array was expected. Please change the shape of y to (n_samples,), for example using ravel().\n",
      "  estimator.fit(X_train, y_train, **fit_params)\n",
      "C:\\Anaconda\\lib\\site-packages\\sklearn\\model_selection\\_validation.py:458: DataConversionWarning: A column-vector y was passed when a 1d array was expected. Please change the shape of y to (n_samples,), for example using ravel().\n",
      "  estimator.fit(X_train, y_train, **fit_params)\n",
      "C:\\Anaconda\\lib\\site-packages\\sklearn\\model_selection\\_validation.py:458: DataConversionWarning: A column-vector y was passed when a 1d array was expected. Please change the shape of y to (n_samples,), for example using ravel().\n",
      "  estimator.fit(X_train, y_train, **fit_params)\n",
      "C:\\Anaconda\\lib\\site-packages\\sklearn\\model_selection\\_validation.py:458: DataConversionWarning: A column-vector y was passed when a 1d array was expected. Please change the shape of y to (n_samples,), for example using ravel().\n",
      "  estimator.fit(X_train, y_train, **fit_params)\n"
     ]
    },
    {
     "name": "stdout",
     "output_type": "stream",
     "text": [
      "actual(1H)\n",
      "(1957, 9)\n"
     ]
    },
    {
     "name": "stderr",
     "output_type": "stream",
     "text": [
      "C:\\Anaconda\\lib\\site-packages\\sklearn\\model_selection\\_validation.py:458: DataConversionWarning: A column-vector y was passed when a 1d array was expected. Please change the shape of y to (n_samples,), for example using ravel().\n",
      "  estimator.fit(X_train, y_train, **fit_params)\n",
      "C:\\Anaconda\\lib\\site-packages\\sklearn\\model_selection\\_validation.py:458: DataConversionWarning: A column-vector y was passed when a 1d array was expected. Please change the shape of y to (n_samples,), for example using ravel().\n",
      "  estimator.fit(X_train, y_train, **fit_params)\n",
      "C:\\Anaconda\\lib\\site-packages\\sklearn\\model_selection\\_validation.py:458: DataConversionWarning: A column-vector y was passed when a 1d array was expected. Please change the shape of y to (n_samples,), for example using ravel().\n",
      "  estimator.fit(X_train, y_train, **fit_params)\n",
      "C:\\Anaconda\\lib\\site-packages\\sklearn\\model_selection\\_validation.py:458: DataConversionWarning: A column-vector y was passed when a 1d array was expected. Please change the shape of y to (n_samples,), for example using ravel().\n",
      "  estimator.fit(X_train, y_train, **fit_params)\n"
     ]
    },
    {
     "name": "stdout",
     "output_type": "stream",
     "text": [
      "forecast\n",
      "(23901, 9)\n"
     ]
    },
    {
     "name": "stderr",
     "output_type": "stream",
     "text": [
      "C:\\Anaconda\\lib\\site-packages\\sklearn\\model_selection\\_validation.py:458: DataConversionWarning: A column-vector y was passed when a 1d array was expected. Please change the shape of y to (n_samples,), for example using ravel().\n",
      "  estimator.fit(X_train, y_train, **fit_params)\n",
      "C:\\Anaconda\\lib\\site-packages\\sklearn\\model_selection\\_validation.py:458: DataConversionWarning: A column-vector y was passed when a 1d array was expected. Please change the shape of y to (n_samples,), for example using ravel().\n",
      "  estimator.fit(X_train, y_train, **fit_params)\n",
      "C:\\Anaconda\\lib\\site-packages\\sklearn\\model_selection\\_validation.py:458: DataConversionWarning: A column-vector y was passed when a 1d array was expected. Please change the shape of y to (n_samples,), for example using ravel().\n",
      "  estimator.fit(X_train, y_train, **fit_params)\n",
      "C:\\Anaconda\\lib\\site-packages\\sklearn\\model_selection\\_validation.py:458: DataConversionWarning: A column-vector y was passed when a 1d array was expected. Please change the shape of y to (n_samples,), for example using ravel().\n",
      "  estimator.fit(X_train, y_train, **fit_params)\n"
     ]
    }
   ],
   "source": [
    "rmse_list = []\n",
    "naive_list = []\n",
    "cv_list = []\n",
    "weather_names = ['actual(1min)', 'actual(1H)', 'forecast']\n",
    "\n",
    "for n, weather_name in enumerate(weather_names):\n",
    "\n",
    "    print(weather_name)\n",
    "    # make dataset\n",
    "    data_raw = make_dataset(method='zero', weather=n, AM=True)\n",
    "\n",
    "    # preprocessing 1\n",
    "    data_pre_1 = preprocessing_1(data_raw)\n",
    "\n",
    "    # preprocessing 2\n",
    "    X_train_sc, X_test_sc, y_train_sc, y_test_sc, X_sc, y_sc = preprocessing_2(data_pre_1, horizontal=False, \n",
    "                                                                               scaling=True, test_size=0.25)\n",
    "\n",
    "    # modeling\n",
    "    rf = RandomForestRegressor(n_estimators=15)\n",
    "    model_rf = rf.fit(X_train_sc, y_train_sc)\n",
    "    y_pred = model_rf.predict(X_test_sc)\n",
    "\n",
    "    rmse = np.sqrt(np.mean(np.power(y_pred - y_test_sc, 2)))\n",
    "    naive_r2 = r2_score(y_test_sc, y_pred)\n",
    "    cv_r2 = np.mean(cross_val_score(rf, X_sc, y_sc, cv=4, scoring='r2'))\n",
    "\n",
    "    rmse_list.append(rmse)\n",
    "    naive_list.append(naive_r2)\n",
    "    cv_list.append(cv_r2)\n",
    "    \n",
    "score_df = pd.DataFrame(columns=['weather_type', 'rmse', 'naive', 'cv'])\n",
    "score_df['weather_type'] = weather_names\n",
    "score_df['rmse'] = rmse_list\n",
    "score_df['naive'] = naive_list\n",
    "score_df['cv'] = cv_list"
   ]
  },
  {
   "cell_type": "code",
   "execution_count": 266,
   "metadata": {},
   "outputs": [
    {
     "data": {
      "text/html": [
       "<div>\n",
       "<style scoped>\n",
       "    .dataframe tbody tr th:only-of-type {\n",
       "        vertical-align: middle;\n",
       "    }\n",
       "\n",
       "    .dataframe tbody tr th {\n",
       "        vertical-align: top;\n",
       "    }\n",
       "\n",
       "    .dataframe thead th {\n",
       "        text-align: right;\n",
       "    }\n",
       "</style>\n",
       "<table border=\"1\" class=\"dataframe\">\n",
       "  <thead>\n",
       "    <tr style=\"text-align: right;\">\n",
       "      <th></th>\n",
       "      <th>weather_type</th>\n",
       "      <th>rmse</th>\n",
       "      <th>naive</th>\n",
       "      <th>cv</th>\n",
       "    </tr>\n",
       "  </thead>\n",
       "  <tbody>\n",
       "    <tr>\n",
       "      <th>0</th>\n",
       "      <td>actual(1min)</td>\n",
       "      <td>0.080044</td>\n",
       "      <td>0.935596</td>\n",
       "      <td>0.746384</td>\n",
       "    </tr>\n",
       "    <tr>\n",
       "      <th>1</th>\n",
       "      <td>actual(1H)</td>\n",
       "      <td>0.050270</td>\n",
       "      <td>0.969831</td>\n",
       "      <td>0.620725</td>\n",
       "    </tr>\n",
       "    <tr>\n",
       "      <th>2</th>\n",
       "      <td>forecast</td>\n",
       "      <td>0.069549</td>\n",
       "      <td>0.952054</td>\n",
       "      <td>0.743073</td>\n",
       "    </tr>\n",
       "  </tbody>\n",
       "</table>\n",
       "</div>"
      ],
      "text/plain": [
       "   weather_type      rmse     naive        cv\n",
       "0  actual(1min)  0.080044  0.935596  0.746384\n",
       "1    actual(1H)  0.050270  0.969831  0.620725\n",
       "2      forecast  0.069549  0.952054  0.743073"
      ]
     },
     "execution_count": 266,
     "metadata": {},
     "output_type": "execute_result"
    }
   ],
   "source": [
    "score_df"
   ]
  },
  {
   "cell_type": "markdown",
   "metadata": {},
   "source": [
    "- 46H later : 0.8111751627453345\n",
    "- 8AM : 0.7862941886005279"
   ]
  },
  {
   "cell_type": "markdown",
   "metadata": {},
   "source": [
    "### 노트\n",
    "\n",
    "- forecast 데이터를 사용하는게 괜찮을 듯"
   ]
  },
  {
   "cell_type": "code",
   "execution_count": 4,
   "metadata": {},
   "outputs": [
    {
     "name": "stdout",
     "output_type": "stream",
     "text": [
      "(23901, 9)\n"
     ]
    },
    {
     "name": "stderr",
     "output_type": "stream",
     "text": [
      "C:\\Anaconda\\lib\\site-packages\\sklearn\\model_selection\\_validation.py:458: DataConversionWarning: A column-vector y was passed when a 1d array was expected. Please change the shape of y to (n_samples,), for example using ravel().\n",
      "  estimator.fit(X_train, y_train, **fit_params)\n",
      "C:\\Anaconda\\lib\\site-packages\\sklearn\\model_selection\\_validation.py:458: DataConversionWarning: A column-vector y was passed when a 1d array was expected. Please change the shape of y to (n_samples,), for example using ravel().\n",
      "  estimator.fit(X_train, y_train, **fit_params)\n",
      "C:\\Anaconda\\lib\\site-packages\\sklearn\\model_selection\\_validation.py:458: DataConversionWarning: A column-vector y was passed when a 1d array was expected. Please change the shape of y to (n_samples,), for example using ravel().\n",
      "  estimator.fit(X_train, y_train, **fit_params)\n",
      "C:\\Anaconda\\lib\\site-packages\\sklearn\\model_selection\\_validation.py:458: DataConversionWarning: A column-vector y was passed when a 1d array was expected. Please change the shape of y to (n_samples,), for example using ravel().\n",
      "  estimator.fit(X_train, y_train, **fit_params)\n"
     ]
    },
    {
     "data": {
      "text/plain": [
       "(0.07379881858409411, 0.9464629683453728, 0.7460243661437591)"
      ]
     },
     "execution_count": 4,
     "metadata": {},
     "output_type": "execute_result"
    }
   ],
   "source": [
    "# make dataset\n",
    "data_raw = make_dataset(method='linear', weather=2, AM=True)\n",
    "\n",
    "# preprocessing 1\n",
    "data_pre_1 = preprocessing_1(data_raw)\n",
    "\n",
    "# preprocessing 2\n",
    "X_train_sc, X_test_sc, y_train_sc, y_test_sc, X_sc, y_sc = preprocessing_2(data_pre_1, horizontal=False, \n",
    "                                                                           scaling=True, test_size=0.25)\n",
    "\n",
    "# modeling\n",
    "rf = RandomForestRegressor(n_estimators=15)\n",
    "model_rf = rf.fit(X_train_sc, y_train_sc)\n",
    "y_pred = model_rf.predict(X_test_sc)\n",
    "\n",
    "rmse = np.sqrt(np.mean(np.power(y_pred - y_test_sc, 2)))\n",
    "naive_r2 = r2_score(y_test_sc, y_pred)\n",
    "cv_r2 = np.mean(cross_val_score(rf, X_sc, y_sc, cv=4, scoring='r2'))\n",
    "\n",
    "rmse, naive_r2, cv_r2"
   ]
  },
  {
   "cell_type": "code",
   "execution_count": null,
   "metadata": {},
   "outputs": [],
   "source": []
  },
  {
   "cell_type": "markdown",
   "metadata": {},
   "source": [
    "---"
   ]
  },
  {
   "cell_type": "markdown",
   "metadata": {},
   "source": [
    "### model test"
   ]
  },
  {
   "cell_type": "markdown",
   "metadata": {},
   "source": [
    "### statsmodels"
   ]
  },
  {
   "cell_type": "code",
   "execution_count": 234,
   "metadata": {},
   "outputs": [
    {
     "name": "stdout",
     "output_type": "stream",
     "text": [
      "0.049092160329876657 0.35663215628743805\n",
      "                            OLS Regression Results                            \n",
      "==============================================================================\n",
      "Dep. Variable:                      y   R-squared:                       0.560\n",
      "Model:                            OLS   Adj. R-squared:                  0.557\n",
      "Method:                 Least Squares   F-statistic:                     206.1\n",
      "Date:                Tue, 12 Feb 2019   Prob (F-statistic):          1.61e-252\n",
      "Time:                        15:18:47   Log-Likelihood:                 69.001\n",
      "No. Observations:                1467   AIC:                            -120.0\n",
      "Df Residuals:                    1458   BIC:                            -72.38\n",
      "Df Model:                           9                                         \n",
      "Covariance Type:            nonrobust                                         \n",
      "==============================================================================\n",
      "                 coef    std err          t      P>|t|      [0.025      0.975]\n",
      "------------------------------------------------------------------------------\n",
      "x1             0.4897      0.026     18.526      0.000       0.438       0.542\n",
      "x2             0.0459      0.041      1.122      0.262      -0.034       0.126\n",
      "x3             0.5706      0.037     15.347      0.000       0.498       0.644\n",
      "x4             0.0126      0.018      0.700      0.484      -0.023       0.048\n",
      "x5            -0.1626      0.024     -6.902      0.000      -0.209      -0.116\n",
      "x6            -0.1196      0.015     -7.825      0.000      -0.150      -0.090\n",
      "const      -1.054e-15   1.91e-16     -5.522      0.000   -1.43e-15    -6.8e-16\n",
      "x7            -0.0928      0.022     -4.198      0.000      -0.136      -0.049\n",
      "x8            -0.0339      0.020     -1.700      0.089      -0.073       0.005\n",
      "x9             0.0158      0.016      0.993      0.321      -0.015       0.047\n",
      "==============================================================================\n",
      "Omnibus:                      106.992   Durbin-Watson:                   1.941\n",
      "Prob(Omnibus):                  0.000   Jarque-Bera (JB):              130.003\n",
      "Skew:                           0.690   Prob(JB):                     5.89e-29\n",
      "Kurtosis:                       3.473   Cond. No.                     5.13e+16\n",
      "==============================================================================\n",
      "\n",
      "Warnings:\n",
      "[1] Standard Errors assume that the covariance matrix of the errors is correctly specified.\n",
      "[2] The smallest eigenvalue is 1.04e-30. This might indicate that there are\n",
      "strong multicollinearity problems or that the design matrix is singular.\n"
     ]
    }
   ],
   "source": [
    "# modeling\n",
    "model_sm = sm.OLS(y_train_sc, X_train_sc)\n",
    "result = model_sm.fit()\n",
    "y_pred = result.predict(X_test_sc)\n",
    "\n",
    "mse = mean_squared_error(y_test_sc, y_pred)\n",
    "r2_scoring = r2_score(y_test_sc, y_pred)\n",
    "\n",
    "print(mse, r2_scoring)\n",
    "print(result.summary())"
   ]
  },
  {
   "cell_type": "markdown",
   "metadata": {},
   "source": [
    "### sklearn linear regression"
   ]
  },
  {
   "cell_type": "code",
   "execution_count": 233,
   "metadata": {},
   "outputs": [
    {
     "data": {
      "text/plain": [
       "(0.04689199016310876, 0.38546606228144076, 0.27815723796225655)"
      ]
     },
     "execution_count": 233,
     "metadata": {},
     "output_type": "execute_result"
    }
   ],
   "source": [
    "lr = LinearRegression()\n",
    "model_lr = lr.fit(X_train_sc, y_train_sc)\n",
    "y_pred = model_lr.predict(X_test_sc)\n",
    "\n",
    "mse = mean_squared_error(y_test_sc, y_pred)\n",
    "naive_r2 = r2_score(y_test_sc, y_pred)\n",
    "cv_r2 = np.mean(cross_val_score(lr, X_sc, y_sc, cv=4, scoring='r2'))\n",
    "\n",
    "mse, naive_r2, cv_r2"
   ]
  },
  {
   "cell_type": "markdown",
   "metadata": {},
   "source": [
    "### SVM"
   ]
  },
  {
   "cell_type": "code",
   "execution_count": 232,
   "metadata": {},
   "outputs": [
    {
     "name": "stderr",
     "output_type": "stream",
     "text": [
      "C:\\Anaconda\\lib\\site-packages\\sklearn\\utils\\validation.py:578: DataConversionWarning: A column-vector y was passed when a 1d array was expected. Please change the shape of y to (n_samples, ), for example using ravel().\n",
      "  y = column_or_1d(y, warn=True)\n",
      "C:\\Anaconda\\lib\\site-packages\\sklearn\\utils\\validation.py:578: DataConversionWarning: A column-vector y was passed when a 1d array was expected. Please change the shape of y to (n_samples, ), for example using ravel().\n",
      "  y = column_or_1d(y, warn=True)\n",
      "C:\\Anaconda\\lib\\site-packages\\sklearn\\utils\\validation.py:578: DataConversionWarning: A column-vector y was passed when a 1d array was expected. Please change the shape of y to (n_samples, ), for example using ravel().\n",
      "  y = column_or_1d(y, warn=True)\n",
      "C:\\Anaconda\\lib\\site-packages\\sklearn\\utils\\validation.py:578: DataConversionWarning: A column-vector y was passed when a 1d array was expected. Please change the shape of y to (n_samples, ), for example using ravel().\n",
      "  y = column_or_1d(y, warn=True)\n"
     ]
    },
    {
     "data": {
      "text/plain": [
       "(0.023372145804730456, 0.6937008486022189, 0.4045454585861782)"
      ]
     },
     "execution_count": 232,
     "metadata": {},
     "output_type": "execute_result"
    }
   ],
   "source": [
    "model_svm = SVR(C=100, kernel='rbf')\n",
    "result = model_svm.fit(X_train_sc, y_train_sc)\n",
    "y_pred = result.predict(X_test_sc)\n",
    "\n",
    "mse = mean_squared_error(y_test_sc, y_pred)\n",
    "naive_r2 = r2_score(y_test_sc, y_pred)\n",
    "cv_r2 = np.mean(cross_val_score(model_svm, X_sc, y_sc, cv=4, scoring='r2'))\n",
    "\n",
    "mse, naive_r2, cv_r2"
   ]
  },
  {
   "cell_type": "markdown",
   "metadata": {},
   "source": [
    "### random forest"
   ]
  },
  {
   "cell_type": "code",
   "execution_count": 236,
   "metadata": {},
   "outputs": [
    {
     "name": "stderr",
     "output_type": "stream",
     "text": [
      "C:\\Anaconda\\lib\\site-packages\\sklearn\\model_selection\\_validation.py:458: DataConversionWarning: A column-vector y was passed when a 1d array was expected. Please change the shape of y to (n_samples,), for example using ravel().\n",
      "  estimator.fit(X_train, y_train, **fit_params)\n",
      "C:\\Anaconda\\lib\\site-packages\\sklearn\\model_selection\\_validation.py:458: DataConversionWarning: A column-vector y was passed when a 1d array was expected. Please change the shape of y to (n_samples,), for example using ravel().\n",
      "  estimator.fit(X_train, y_train, **fit_params)\n",
      "C:\\Anaconda\\lib\\site-packages\\sklearn\\model_selection\\_validation.py:458: DataConversionWarning: A column-vector y was passed when a 1d array was expected. Please change the shape of y to (n_samples,), for example using ravel().\n",
      "  estimator.fit(X_train, y_train, **fit_params)\n",
      "C:\\Anaconda\\lib\\site-packages\\sklearn\\model_selection\\_validation.py:458: DataConversionWarning: A column-vector y was passed when a 1d array was expected. Please change the shape of y to (n_samples,), for example using ravel().\n",
      "  estimator.fit(X_train, y_train, **fit_params)\n"
     ]
    },
    {
     "data": {
      "text/plain": [
       "(0.0045063631851144014, 0.9409427259686454, 0.6333709500063072)"
      ]
     },
     "execution_count": 236,
     "metadata": {},
     "output_type": "execute_result"
    }
   ],
   "source": [
    "rf = RandomForestRegressor(n_estimators=15)\n",
    "model_rf = rf.fit(X_train_sc, y_train_sc)\n",
    "y_pred = model_rf.predict(X_test_sc)\n",
    "\n",
    "mse = mean_squared_error(y_test_sc, y_pred)\n",
    "naive_r2 = r2_score(y_test_sc, y_pred)\n",
    "cv_r2 = np.mean(cross_val_score(rf, X_sc, y_sc, cv=4, scoring='r2'))\n",
    "\n",
    "mse, naive_r2, cv_r2"
   ]
  },
  {
   "cell_type": "markdown",
   "metadata": {},
   "source": [
    "### lightgbm"
   ]
  },
  {
   "cell_type": "code",
   "execution_count": 237,
   "metadata": {},
   "outputs": [],
   "source": [
    "import lightgbm as lgb"
   ]
  },
  {
   "cell_type": "code",
   "execution_count": 242,
   "metadata": {},
   "outputs": [
    {
     "name": "stdout",
     "output_type": "stream",
     "text": [
      "[1]\tvalid_0's l2: 0.0642625\n",
      "[2]\tvalid_0's l2: 0.0543292\n",
      "[3]\tvalid_0's l2: 0.0458051\n",
      "[4]\tvalid_0's l2: 0.0388702\n",
      "[5]\tvalid_0's l2: 0.0337894\n",
      "[6]\tvalid_0's l2: 0.029127\n",
      "[7]\tvalid_0's l2: 0.0251221\n",
      "[8]\tvalid_0's l2: 0.0218788\n",
      "[9]\tvalid_0's l2: 0.0194337\n",
      "[10]\tvalid_0's l2: 0.017275\n",
      "[11]\tvalid_0's l2: 0.0154477\n",
      "[12]\tvalid_0's l2: 0.0139613\n",
      "[13]\tvalid_0's l2: 0.0127755\n",
      "[14]\tvalid_0's l2: 0.0117299\n",
      "[15]\tvalid_0's l2: 0.0109257\n",
      "[16]\tvalid_0's l2: 0.0103322\n",
      "[17]\tvalid_0's l2: 0.00958886\n",
      "[18]\tvalid_0's l2: 0.00898088\n",
      "[19]\tvalid_0's l2: 0.00852411\n",
      "[20]\tvalid_0's l2: 0.00826378\n",
      "[21]\tvalid_0's l2: 0.00792117\n",
      "[22]\tvalid_0's l2: 0.0076983\n",
      "[23]\tvalid_0's l2: 0.00738118\n",
      "[24]\tvalid_0's l2: 0.00721847\n",
      "[25]\tvalid_0's l2: 0.00697752\n",
      "[26]\tvalid_0's l2: 0.0068503\n",
      "[27]\tvalid_0's l2: 0.00666516\n",
      "[28]\tvalid_0's l2: 0.00648336\n",
      "[29]\tvalid_0's l2: 0.00641326\n",
      "[30]\tvalid_0's l2: 0.00624224\n",
      "[31]\tvalid_0's l2: 0.0061289\n",
      "[32]\tvalid_0's l2: 0.00603678\n",
      "[33]\tvalid_0's l2: 0.00594862\n",
      "[34]\tvalid_0's l2: 0.00584692\n",
      "[35]\tvalid_0's l2: 0.00576417\n",
      "[36]\tvalid_0's l2: 0.00571818\n",
      "[37]\tvalid_0's l2: 0.00558956\n",
      "[38]\tvalid_0's l2: 0.00554407\n",
      "[39]\tvalid_0's l2: 0.00553494\n",
      "[40]\tvalid_0's l2: 0.00545834\n",
      "[41]\tvalid_0's l2: 0.0054025\n",
      "[42]\tvalid_0's l2: 0.00533281\n",
      "[43]\tvalid_0's l2: 0.00525735\n",
      "[44]\tvalid_0's l2: 0.00523584\n",
      "[45]\tvalid_0's l2: 0.00522527\n",
      "[46]\tvalid_0's l2: 0.00517105\n",
      "[47]\tvalid_0's l2: 0.00512973\n",
      "[48]\tvalid_0's l2: 0.00509523\n",
      "[49]\tvalid_0's l2: 0.00507923\n",
      "[50]\tvalid_0's l2: 0.00506427\n",
      "[51]\tvalid_0's l2: 0.00501559\n",
      "[52]\tvalid_0's l2: 0.00501619\n",
      "[53]\tvalid_0's l2: 0.00497022\n",
      "[54]\tvalid_0's l2: 0.00496148\n",
      "[55]\tvalid_0's l2: 0.00490799\n",
      "[56]\tvalid_0's l2: 0.00490751\n",
      "[57]\tvalid_0's l2: 0.00486766\n",
      "[58]\tvalid_0's l2: 0.00482439\n",
      "[59]\tvalid_0's l2: 0.00481019\n",
      "[60]\tvalid_0's l2: 0.00481443\n",
      "[61]\tvalid_0's l2: 0.00478248\n",
      "[62]\tvalid_0's l2: 0.00476477\n",
      "[63]\tvalid_0's l2: 0.00473885\n",
      "[64]\tvalid_0's l2: 0.00471582\n",
      "[65]\tvalid_0's l2: 0.00470781\n",
      "[66]\tvalid_0's l2: 0.00469618\n",
      "[67]\tvalid_0's l2: 0.00466638\n",
      "[68]\tvalid_0's l2: 0.00466271\n",
      "[69]\tvalid_0's l2: 0.00466275\n",
      "[70]\tvalid_0's l2: 0.00463958\n",
      "[71]\tvalid_0's l2: 0.00458836\n",
      "[72]\tvalid_0's l2: 0.00455354\n",
      "[73]\tvalid_0's l2: 0.00454603\n",
      "[74]\tvalid_0's l2: 0.00455004\n",
      "[75]\tvalid_0's l2: 0.00453773\n",
      "[76]\tvalid_0's l2: 0.00450568\n",
      "[77]\tvalid_0's l2: 0.00449652\n",
      "[78]\tvalid_0's l2: 0.00449101\n",
      "[79]\tvalid_0's l2: 0.00446705\n",
      "[80]\tvalid_0's l2: 0.00445814\n",
      "[81]\tvalid_0's l2: 0.00445503\n",
      "[82]\tvalid_0's l2: 0.00444231\n",
      "[83]\tvalid_0's l2: 0.00443519\n",
      "[84]\tvalid_0's l2: 0.00442962\n",
      "[85]\tvalid_0's l2: 0.00442389\n",
      "[86]\tvalid_0's l2: 0.00441668\n",
      "[87]\tvalid_0's l2: 0.00440877\n",
      "[88]\tvalid_0's l2: 0.00439443\n",
      "[89]\tvalid_0's l2: 0.00439068\n",
      "[90]\tvalid_0's l2: 0.0043704\n",
      "[91]\tvalid_0's l2: 0.0043527\n",
      "[92]\tvalid_0's l2: 0.00434245\n",
      "[93]\tvalid_0's l2: 0.00434338\n",
      "[94]\tvalid_0's l2: 0.00433023\n",
      "[95]\tvalid_0's l2: 0.00431527\n",
      "[96]\tvalid_0's l2: 0.00430752\n",
      "[97]\tvalid_0's l2: 0.0042837\n",
      "[98]\tvalid_0's l2: 0.00426686\n",
      "[99]\tvalid_0's l2: 0.00426993\n",
      "[100]\tvalid_0's l2: 0.00425144\n"
     ]
    },
    {
     "data": {
      "text/plain": [
       "((0.004251444908539622,), 0.9442835083017265, 0.27815723796225655)"
      ]
     },
     "execution_count": 242,
     "metadata": {},
     "output_type": "execute_result"
    }
   ],
   "source": [
    "# create dataset for lightgbm\n",
    "\n",
    "lgb_train = lgb.Dataset(X_train_sc, y_train_sc)\n",
    "lgb_test = lgb.Dataset(X_test_sc, y_test_sc, reference=lgb_train)\n",
    "\n",
    "params = {\n",
    "    'objective': 'regression',\n",
    "    'boosting_type': 'gbdt',\n",
    "    'verbose': 0\n",
    "}\n",
    "\n",
    "gbm = lgb.train(params, lgb_train, valid_sets=lgb_test)\n",
    "y_pred = gbm.predict(X_test_sc)\n",
    "\n",
    "mse = mean_squared_error(y_test_sc, y_pred), \n",
    "naive_r2 = r2_score(y_test_sc, y_pred)\n",
    "cv_r2 = np.mean(cross_val_score(lr, X_sc, y_sc, cv=4, scoring='r2'))\n",
    "\n",
    "mse, naive_r2, cv_r2"
   ]
  },
  {
   "cell_type": "markdown",
   "metadata": {},
   "source": [
    "---"
   ]
  },
  {
   "cell_type": "markdown",
   "metadata": {},
   "source": [
    "### parameter test"
   ]
  },
  {
   "cell_type": "code",
   "execution_count": 271,
   "metadata": {
    "scrolled": true
   },
   "outputs": [
    {
     "name": "stdout",
     "output_type": "stream",
     "text": [
      "linear\n",
      "(23901, 9)\n"
     ]
    },
    {
     "name": "stderr",
     "output_type": "stream",
     "text": [
      "C:\\Anaconda\\lib\\site-packages\\sklearn\\model_selection\\_validation.py:458: DataConversionWarning: A column-vector y was passed when a 1d array was expected. Please change the shape of y to (n_samples,), for example using ravel().\n",
      "  estimator.fit(X_train, y_train, **fit_params)\n",
      "C:\\Anaconda\\lib\\site-packages\\sklearn\\model_selection\\_validation.py:458: DataConversionWarning: A column-vector y was passed when a 1d array was expected. Please change the shape of y to (n_samples,), for example using ravel().\n",
      "  estimator.fit(X_train, y_train, **fit_params)\n",
      "C:\\Anaconda\\lib\\site-packages\\sklearn\\model_selection\\_validation.py:458: DataConversionWarning: A column-vector y was passed when a 1d array was expected. Please change the shape of y to (n_samples,), for example using ravel().\n",
      "  estimator.fit(X_train, y_train, **fit_params)\n",
      "C:\\Anaconda\\lib\\site-packages\\sklearn\\model_selection\\_validation.py:458: DataConversionWarning: A column-vector y was passed when a 1d array was expected. Please change the shape of y to (n_samples,), for example using ravel().\n",
      "  estimator.fit(X_train, y_train, **fit_params)\n",
      "C:\\Anaconda\\lib\\site-packages\\sklearn\\model_selection\\_validation.py:458: DataConversionWarning: A column-vector y was passed when a 1d array was expected. Please change the shape of y to (n_samples,), for example using ravel().\n",
      "  estimator.fit(X_train, y_train, **fit_params)\n"
     ]
    },
    {
     "name": "stdout",
     "output_type": "stream",
     "text": [
      "nearest\n",
      "(23901, 9)\n"
     ]
    },
    {
     "name": "stderr",
     "output_type": "stream",
     "text": [
      "C:\\Anaconda\\lib\\site-packages\\sklearn\\model_selection\\_validation.py:458: DataConversionWarning: A column-vector y was passed when a 1d array was expected. Please change the shape of y to (n_samples,), for example using ravel().\n",
      "  estimator.fit(X_train, y_train, **fit_params)\n",
      "C:\\Anaconda\\lib\\site-packages\\sklearn\\model_selection\\_validation.py:458: DataConversionWarning: A column-vector y was passed when a 1d array was expected. Please change the shape of y to (n_samples,), for example using ravel().\n",
      "  estimator.fit(X_train, y_train, **fit_params)\n",
      "C:\\Anaconda\\lib\\site-packages\\sklearn\\model_selection\\_validation.py:458: DataConversionWarning: A column-vector y was passed when a 1d array was expected. Please change the shape of y to (n_samples,), for example using ravel().\n",
      "  estimator.fit(X_train, y_train, **fit_params)\n",
      "C:\\Anaconda\\lib\\site-packages\\sklearn\\model_selection\\_validation.py:458: DataConversionWarning: A column-vector y was passed when a 1d array was expected. Please change the shape of y to (n_samples,), for example using ravel().\n",
      "  estimator.fit(X_train, y_train, **fit_params)\n",
      "C:\\Anaconda\\lib\\site-packages\\sklearn\\model_selection\\_validation.py:458: DataConversionWarning: A column-vector y was passed when a 1d array was expected. Please change the shape of y to (n_samples,), for example using ravel().\n",
      "  estimator.fit(X_train, y_train, **fit_params)\n"
     ]
    },
    {
     "name": "stdout",
     "output_type": "stream",
     "text": [
      "zero\n",
      "(23901, 9)\n"
     ]
    },
    {
     "name": "stderr",
     "output_type": "stream",
     "text": [
      "C:\\Anaconda\\lib\\site-packages\\sklearn\\model_selection\\_validation.py:458: DataConversionWarning: A column-vector y was passed when a 1d array was expected. Please change the shape of y to (n_samples,), for example using ravel().\n",
      "  estimator.fit(X_train, y_train, **fit_params)\n",
      "C:\\Anaconda\\lib\\site-packages\\sklearn\\model_selection\\_validation.py:458: DataConversionWarning: A column-vector y was passed when a 1d array was expected. Please change the shape of y to (n_samples,), for example using ravel().\n",
      "  estimator.fit(X_train, y_train, **fit_params)\n",
      "C:\\Anaconda\\lib\\site-packages\\sklearn\\model_selection\\_validation.py:458: DataConversionWarning: A column-vector y was passed when a 1d array was expected. Please change the shape of y to (n_samples,), for example using ravel().\n",
      "  estimator.fit(X_train, y_train, **fit_params)\n",
      "C:\\Anaconda\\lib\\site-packages\\sklearn\\model_selection\\_validation.py:458: DataConversionWarning: A column-vector y was passed when a 1d array was expected. Please change the shape of y to (n_samples,), for example using ravel().\n",
      "  estimator.fit(X_train, y_train, **fit_params)\n",
      "C:\\Anaconda\\lib\\site-packages\\sklearn\\model_selection\\_validation.py:458: DataConversionWarning: A column-vector y was passed when a 1d array was expected. Please change the shape of y to (n_samples,), for example using ravel().\n",
      "  estimator.fit(X_train, y_train, **fit_params)\n"
     ]
    },
    {
     "name": "stdout",
     "output_type": "stream",
     "text": [
      "quadratic\n",
      "(23901, 9)\n"
     ]
    },
    {
     "name": "stderr",
     "output_type": "stream",
     "text": [
      "C:\\Anaconda\\lib\\site-packages\\sklearn\\model_selection\\_validation.py:458: DataConversionWarning: A column-vector y was passed when a 1d array was expected. Please change the shape of y to (n_samples,), for example using ravel().\n",
      "  estimator.fit(X_train, y_train, **fit_params)\n",
      "C:\\Anaconda\\lib\\site-packages\\sklearn\\model_selection\\_validation.py:458: DataConversionWarning: A column-vector y was passed when a 1d array was expected. Please change the shape of y to (n_samples,), for example using ravel().\n",
      "  estimator.fit(X_train, y_train, **fit_params)\n",
      "C:\\Anaconda\\lib\\site-packages\\sklearn\\model_selection\\_validation.py:458: DataConversionWarning: A column-vector y was passed when a 1d array was expected. Please change the shape of y to (n_samples,), for example using ravel().\n",
      "  estimator.fit(X_train, y_train, **fit_params)\n",
      "C:\\Anaconda\\lib\\site-packages\\sklearn\\model_selection\\_validation.py:458: DataConversionWarning: A column-vector y was passed when a 1d array was expected. Please change the shape of y to (n_samples,), for example using ravel().\n",
      "  estimator.fit(X_train, y_train, **fit_params)\n",
      "C:\\Anaconda\\lib\\site-packages\\sklearn\\model_selection\\_validation.py:458: DataConversionWarning: A column-vector y was passed when a 1d array was expected. Please change the shape of y to (n_samples,), for example using ravel().\n",
      "  estimator.fit(X_train, y_train, **fit_params)\n"
     ]
    },
    {
     "name": "stdout",
     "output_type": "stream",
     "text": [
      "cubic\n",
      "(23901, 9)\n"
     ]
    },
    {
     "name": "stderr",
     "output_type": "stream",
     "text": [
      "C:\\Anaconda\\lib\\site-packages\\sklearn\\model_selection\\_validation.py:458: DataConversionWarning: A column-vector y was passed when a 1d array was expected. Please change the shape of y to (n_samples,), for example using ravel().\n",
      "  estimator.fit(X_train, y_train, **fit_params)\n",
      "C:\\Anaconda\\lib\\site-packages\\sklearn\\model_selection\\_validation.py:458: DataConversionWarning: A column-vector y was passed when a 1d array was expected. Please change the shape of y to (n_samples,), for example using ravel().\n",
      "  estimator.fit(X_train, y_train, **fit_params)\n",
      "C:\\Anaconda\\lib\\site-packages\\sklearn\\model_selection\\_validation.py:458: DataConversionWarning: A column-vector y was passed when a 1d array was expected. Please change the shape of y to (n_samples,), for example using ravel().\n",
      "  estimator.fit(X_train, y_train, **fit_params)\n",
      "C:\\Anaconda\\lib\\site-packages\\sklearn\\model_selection\\_validation.py:458: DataConversionWarning: A column-vector y was passed when a 1d array was expected. Please change the shape of y to (n_samples,), for example using ravel().\n",
      "  estimator.fit(X_train, y_train, **fit_params)\n",
      "C:\\Anaconda\\lib\\site-packages\\sklearn\\model_selection\\_validation.py:458: DataConversionWarning: A column-vector y was passed when a 1d array was expected. Please change the shape of y to (n_samples,), for example using ravel().\n",
      "  estimator.fit(X_train, y_train, **fit_params)\n"
     ]
    }
   ],
   "source": [
    "method_name_v1 = ['linear', 'nearest', 'zero', 'quadratic', 'cubic']\n",
    "method_name_v2 = ['slinear', 'polynomial']\n",
    "order_name = [2, 3, 5]\n",
    "\n",
    "mse_list = []\n",
    "naive_list = []\n",
    "cv_list = []\n",
    "\n",
    "method = method_name_v2[1]\n",
    "for method in method_name_v1:\n",
    "    print(method)\n",
    "\n",
    "    # make dataset\n",
    "    data_raw = make_dataset(method=method, order=order, weather=2, AM=True)\n",
    "\n",
    "    # preprocessing 1\n",
    "    data_pre_1 = preprocessing_1(data_raw)\n",
    "\n",
    "    # preprocessing 2\n",
    "    X_train_sc, X_test_sc, y_train_sc, y_test_sc, X_sc, y_sc = preprocessing_2(data_pre_1, horizontal=True, scaling=True)\n",
    "\n",
    "    # modeling\n",
    "    rf = RandomForestRegressor(n_estimators=15)\n",
    "    model_rf = rf.fit(X_train_sc, y_train_sc)\n",
    "    y_pred = model_rf.predict(X_test_sc)\n",
    "\n",
    "    # evaluate\n",
    "    mse = mean_squared_error(y_test_sc, y_pred)\n",
    "    naive_r2 = r2_score(y_test_sc, y_pred)\n",
    "    cv_r2 = np.mean(cross_val_score(rf, X_sc, y_sc, cv=5, scoring='r2'))\n",
    "\n",
    "    mse_list.append(mse)\n",
    "    naive_list.append(naive_r2)\n",
    "    cv_list.append(cv_r2)"
   ]
  },
  {
   "cell_type": "markdown",
   "metadata": {},
   "source": [
    "### 7. weather=2(forecast), AM=True, method=..."
   ]
  },
  {
   "cell_type": "code",
   "execution_count": 272,
   "metadata": {},
   "outputs": [
    {
     "data": {
      "text/html": [
       "<div>\n",
       "<style scoped>\n",
       "    .dataframe tbody tr th:only-of-type {\n",
       "        vertical-align: middle;\n",
       "    }\n",
       "\n",
       "    .dataframe tbody tr th {\n",
       "        vertical-align: top;\n",
       "    }\n",
       "\n",
       "    .dataframe thead th {\n",
       "        text-align: right;\n",
       "    }\n",
       "</style>\n",
       "<table border=\"1\" class=\"dataframe\">\n",
       "  <thead>\n",
       "    <tr style=\"text-align: right;\">\n",
       "      <th></th>\n",
       "      <th>method</th>\n",
       "      <th>mse</th>\n",
       "      <th>naive</th>\n",
       "      <th>cv</th>\n",
       "    </tr>\n",
       "  </thead>\n",
       "  <tbody>\n",
       "    <tr>\n",
       "      <th>0</th>\n",
       "      <td>linear</td>\n",
       "      <td>0.002771</td>\n",
       "      <td>0.964443</td>\n",
       "      <td>0.714722</td>\n",
       "    </tr>\n",
       "    <tr>\n",
       "      <th>4</th>\n",
       "      <td>cubic</td>\n",
       "      <td>0.003111</td>\n",
       "      <td>0.960399</td>\n",
       "      <td>0.704051</td>\n",
       "    </tr>\n",
       "    <tr>\n",
       "      <th>2</th>\n",
       "      <td>zero</td>\n",
       "      <td>0.002798</td>\n",
       "      <td>0.963868</td>\n",
       "      <td>0.698583</td>\n",
       "    </tr>\n",
       "    <tr>\n",
       "      <th>3</th>\n",
       "      <td>quadratic</td>\n",
       "      <td>0.003315</td>\n",
       "      <td>0.957823</td>\n",
       "      <td>0.698312</td>\n",
       "    </tr>\n",
       "    <tr>\n",
       "      <th>1</th>\n",
       "      <td>nearest</td>\n",
       "      <td>0.003117</td>\n",
       "      <td>0.960848</td>\n",
       "      <td>0.640071</td>\n",
       "    </tr>\n",
       "  </tbody>\n",
       "</table>\n",
       "</div>"
      ],
      "text/plain": [
       "      method       mse     naive        cv\n",
       "0     linear  0.002771  0.964443  0.714722\n",
       "4      cubic  0.003111  0.960399  0.704051\n",
       "2       zero  0.002798  0.963868  0.698583\n",
       "3  quadratic  0.003315  0.957823  0.698312\n",
       "1    nearest  0.003117  0.960848  0.640071"
      ]
     },
     "execution_count": 272,
     "metadata": {},
     "output_type": "execute_result"
    }
   ],
   "source": [
    "# cloud=True, AM=True\n",
    "result_df = pd.DataFrame(columns=['method', 'mse', 'naive', 'cv'])\n",
    "result_df['method'] = method_name\n",
    "result_df['mse'] = mse_list\n",
    "result_df['naive'] = naive_list\n",
    "result_df['cv'] = cv_list\n",
    "result_df.sort_values(by='cv', ascending=False)"
   ]
  },
  {
   "cell_type": "code",
   "execution_count": null,
   "metadata": {},
   "outputs": [],
   "source": []
  },
  {
   "cell_type": "markdown",
   "metadata": {},
   "source": [
    "### 6"
   ]
  },
  {
   "cell_type": "code",
   "execution_count": 176,
   "metadata": {},
   "outputs": [
    {
     "data": {
      "text/html": [
       "<div>\n",
       "<style scoped>\n",
       "    .dataframe tbody tr th:only-of-type {\n",
       "        vertical-align: middle;\n",
       "    }\n",
       "\n",
       "    .dataframe tbody tr th {\n",
       "        vertical-align: top;\n",
       "    }\n",
       "\n",
       "    .dataframe thead th {\n",
       "        text-align: right;\n",
       "    }\n",
       "</style>\n",
       "<table border=\"1\" class=\"dataframe\">\n",
       "  <thead>\n",
       "    <tr style=\"text-align: right;\">\n",
       "      <th></th>\n",
       "      <th>order</th>\n",
       "      <th>mse</th>\n",
       "      <th>naive</th>\n",
       "      <th>cv</th>\n",
       "    </tr>\n",
       "  </thead>\n",
       "  <tbody>\n",
       "    <tr>\n",
       "      <th>2</th>\n",
       "      <td>5</td>\n",
       "      <td>0.002157</td>\n",
       "      <td>0.969735</td>\n",
       "      <td>0.721687</td>\n",
       "    </tr>\n",
       "    <tr>\n",
       "      <th>1</th>\n",
       "      <td>3</td>\n",
       "      <td>0.002114</td>\n",
       "      <td>0.970262</td>\n",
       "      <td>0.714512</td>\n",
       "    </tr>\n",
       "    <tr>\n",
       "      <th>0</th>\n",
       "      <td>2</td>\n",
       "      <td>0.002043</td>\n",
       "      <td>0.970830</td>\n",
       "      <td>0.695171</td>\n",
       "    </tr>\n",
       "  </tbody>\n",
       "</table>\n",
       "</div>"
      ],
      "text/plain": [
       "   order       mse     naive        cv\n",
       "2      5  0.002157  0.969735  0.721687\n",
       "1      3  0.002114  0.970262  0.714512\n",
       "0      2  0.002043  0.970830  0.695171"
      ]
     },
     "execution_count": 176,
     "metadata": {},
     "output_type": "execute_result"
    }
   ],
   "source": [
    "# cloud=False, AM=True, method='slinear', order=2,3,4,5\n",
    "result_df = pd.DataFrame(columns=['order', 'mse', 'naive', 'cv'])\n",
    "result_df['order'] = order_name\n",
    "result_df['mse'] = mse_list\n",
    "result_df['naive'] = naive_list\n",
    "result_df['cv'] = cv_list\n",
    "result_df.sort_values(by='cv', ascending=False)"
   ]
  },
  {
   "cell_type": "markdown",
   "metadata": {},
   "source": [
    "### 5"
   ]
  },
  {
   "cell_type": "code",
   "execution_count": 173,
   "metadata": {},
   "outputs": [
    {
     "data": {
      "text/html": [
       "<div>\n",
       "<style scoped>\n",
       "    .dataframe tbody tr th:only-of-type {\n",
       "        vertical-align: middle;\n",
       "    }\n",
       "\n",
       "    .dataframe tbody tr th {\n",
       "        vertical-align: top;\n",
       "    }\n",
       "\n",
       "    .dataframe thead th {\n",
       "        text-align: right;\n",
       "    }\n",
       "</style>\n",
       "<table border=\"1\" class=\"dataframe\">\n",
       "  <thead>\n",
       "    <tr style=\"text-align: right;\">\n",
       "      <th></th>\n",
       "      <th>order</th>\n",
       "      <th>mse</th>\n",
       "      <th>naive</th>\n",
       "      <th>cv</th>\n",
       "    </tr>\n",
       "  </thead>\n",
       "  <tbody>\n",
       "    <tr>\n",
       "      <th>1</th>\n",
       "      <td>3</td>\n",
       "      <td>0.002078</td>\n",
       "      <td>0.969591</td>\n",
       "      <td>0.711728</td>\n",
       "    </tr>\n",
       "    <tr>\n",
       "      <th>0</th>\n",
       "      <td>2</td>\n",
       "      <td>0.001989</td>\n",
       "      <td>0.971519</td>\n",
       "      <td>0.709254</td>\n",
       "    </tr>\n",
       "    <tr>\n",
       "      <th>2</th>\n",
       "      <td>4</td>\n",
       "      <td>0.001946</td>\n",
       "      <td>0.971752</td>\n",
       "      <td>0.700308</td>\n",
       "    </tr>\n",
       "    <tr>\n",
       "      <th>3</th>\n",
       "      <td>5</td>\n",
       "      <td>0.002158</td>\n",
       "      <td>0.968713</td>\n",
       "      <td>0.693984</td>\n",
       "    </tr>\n",
       "  </tbody>\n",
       "</table>\n",
       "</div>"
      ],
      "text/plain": [
       "   order       mse     naive        cv\n",
       "1      3  0.002078  0.969591  0.711728\n",
       "0      2  0.001989  0.971519  0.709254\n",
       "2      4  0.001946  0.971752  0.700308\n",
       "3      5  0.002158  0.968713  0.693984"
      ]
     },
     "execution_count": 173,
     "metadata": {},
     "output_type": "execute_result"
    }
   ],
   "source": [
    "# cloud=False, AM=True, method='slinear', order=2,3,4,5\n",
    "result_df = pd.DataFrame(columns=['order', 'mse', 'naive', 'cv'])\n",
    "result_df['order'] = order_name\n",
    "result_df['mse'] = mse_list\n",
    "result_df['naive'] = naive_list\n",
    "result_df['cv'] = cv_list\n",
    "result_df.sort_values(by='cv', ascending=False)"
   ]
  },
  {
   "cell_type": "markdown",
   "metadata": {},
   "source": [
    "### 4"
   ]
  },
  {
   "cell_type": "code",
   "execution_count": 171,
   "metadata": {},
   "outputs": [
    {
     "data": {
      "text/html": [
       "<div>\n",
       "<style scoped>\n",
       "    .dataframe tbody tr th:only-of-type {\n",
       "        vertical-align: middle;\n",
       "    }\n",
       "\n",
       "    .dataframe tbody tr th {\n",
       "        vertical-align: top;\n",
       "    }\n",
       "\n",
       "    .dataframe thead th {\n",
       "        text-align: right;\n",
       "    }\n",
       "</style>\n",
       "<table border=\"1\" class=\"dataframe\">\n",
       "  <thead>\n",
       "    <tr style=\"text-align: right;\">\n",
       "      <th></th>\n",
       "      <th>method</th>\n",
       "      <th>mse</th>\n",
       "      <th>naive</th>\n",
       "      <th>cv</th>\n",
       "    </tr>\n",
       "  </thead>\n",
       "  <tbody>\n",
       "    <tr>\n",
       "      <th>4</th>\n",
       "      <td>cubic</td>\n",
       "      <td>0.002472</td>\n",
       "      <td>0.962665</td>\n",
       "      <td>0.724744</td>\n",
       "    </tr>\n",
       "    <tr>\n",
       "      <th>0</th>\n",
       "      <td>linear</td>\n",
       "      <td>0.001912</td>\n",
       "      <td>0.972991</td>\n",
       "      <td>0.705090</td>\n",
       "    </tr>\n",
       "    <tr>\n",
       "      <th>3</th>\n",
       "      <td>quadratic</td>\n",
       "      <td>0.002503</td>\n",
       "      <td>0.963701</td>\n",
       "      <td>0.702769</td>\n",
       "    </tr>\n",
       "    <tr>\n",
       "      <th>2</th>\n",
       "      <td>zero</td>\n",
       "      <td>0.001973</td>\n",
       "      <td>0.970144</td>\n",
       "      <td>0.691730</td>\n",
       "    </tr>\n",
       "    <tr>\n",
       "      <th>1</th>\n",
       "      <td>nearest</td>\n",
       "      <td>0.002416</td>\n",
       "      <td>0.965722</td>\n",
       "      <td>0.689889</td>\n",
       "    </tr>\n",
       "  </tbody>\n",
       "</table>\n",
       "</div>"
      ],
      "text/plain": [
       "      method       mse     naive        cv\n",
       "4      cubic  0.002472  0.962665  0.724744\n",
       "0     linear  0.001912  0.972991  0.705090\n",
       "3  quadratic  0.002503  0.963701  0.702769\n",
       "2       zero  0.001973  0.970144  0.691730\n",
       "1    nearest  0.002416  0.965722  0.689889"
      ]
     },
     "execution_count": 171,
     "metadata": {},
     "output_type": "execute_result"
    }
   ],
   "source": [
    "# cloud=True, AM=True\n",
    "result_df = pd.DataFrame(columns=['method', 'mse', 'naive', 'cv'])\n",
    "result_df['method'] = method_name\n",
    "result_df['mse'] = mse_list\n",
    "result_df['naive'] = naive_list\n",
    "result_df['cv'] = cv_list\n",
    "result_df.sort_values(by='cv', ascending=False)"
   ]
  },
  {
   "cell_type": "markdown",
   "metadata": {},
   "source": [
    "### 3"
   ]
  },
  {
   "cell_type": "code",
   "execution_count": 166,
   "metadata": {},
   "outputs": [
    {
     "data": {
      "text/html": [
       "<div>\n",
       "<style scoped>\n",
       "    .dataframe tbody tr th:only-of-type {\n",
       "        vertical-align: middle;\n",
       "    }\n",
       "\n",
       "    .dataframe tbody tr th {\n",
       "        vertical-align: top;\n",
       "    }\n",
       "\n",
       "    .dataframe thead th {\n",
       "        text-align: right;\n",
       "    }\n",
       "</style>\n",
       "<table border=\"1\" class=\"dataframe\">\n",
       "  <thead>\n",
       "    <tr style=\"text-align: right;\">\n",
       "      <th></th>\n",
       "      <th>method</th>\n",
       "      <th>naive</th>\n",
       "      <th>cv</th>\n",
       "    </tr>\n",
       "  </thead>\n",
       "  <tbody>\n",
       "    <tr>\n",
       "      <th>2</th>\n",
       "      <td>zero</td>\n",
       "      <td>0.965750</td>\n",
       "      <td>0.727507</td>\n",
       "    </tr>\n",
       "    <tr>\n",
       "      <th>0</th>\n",
       "      <td>linear</td>\n",
       "      <td>0.964111</td>\n",
       "      <td>0.715339</td>\n",
       "    </tr>\n",
       "    <tr>\n",
       "      <th>3</th>\n",
       "      <td>quadratic</td>\n",
       "      <td>0.958566</td>\n",
       "      <td>0.700682</td>\n",
       "    </tr>\n",
       "    <tr>\n",
       "      <th>4</th>\n",
       "      <td>cubic</td>\n",
       "      <td>0.965389</td>\n",
       "      <td>0.672776</td>\n",
       "    </tr>\n",
       "    <tr>\n",
       "      <th>1</th>\n",
       "      <td>nearest</td>\n",
       "      <td>0.963836</td>\n",
       "      <td>0.669648</td>\n",
       "    </tr>\n",
       "  </tbody>\n",
       "</table>\n",
       "</div>"
      ],
      "text/plain": [
       "      method     naive        cv\n",
       "2       zero  0.965750  0.727507\n",
       "0     linear  0.964111  0.715339\n",
       "3  quadratic  0.958566  0.700682\n",
       "4      cubic  0.965389  0.672776\n",
       "1    nearest  0.963836  0.669648"
      ]
     },
     "execution_count": 166,
     "metadata": {},
     "output_type": "execute_result"
    }
   ],
   "source": [
    "# cloud=False, AM=True\n",
    "result_df = pd.DataFrame(columns=['method', 'naive', 'cv'])\n",
    "result_df['method'] = method_name\n",
    "result_df['naive'] = naive_list\n",
    "result_df['cv'] = cv_list\n",
    "result_df.sort_values(by='cv', ascending=False)"
   ]
  },
  {
   "cell_type": "markdown",
   "metadata": {},
   "source": [
    "### 2"
   ]
  },
  {
   "cell_type": "code",
   "execution_count": 161,
   "metadata": {},
   "outputs": [
    {
     "data": {
      "text/html": [
       "<div>\n",
       "<style scoped>\n",
       "    .dataframe tbody tr th:only-of-type {\n",
       "        vertical-align: middle;\n",
       "    }\n",
       "\n",
       "    .dataframe tbody tr th {\n",
       "        vertical-align: top;\n",
       "    }\n",
       "\n",
       "    .dataframe thead th {\n",
       "        text-align: right;\n",
       "    }\n",
       "</style>\n",
       "<table border=\"1\" class=\"dataframe\">\n",
       "  <thead>\n",
       "    <tr style=\"text-align: right;\">\n",
       "      <th></th>\n",
       "      <th>method</th>\n",
       "      <th>naive</th>\n",
       "      <th>cv</th>\n",
       "    </tr>\n",
       "  </thead>\n",
       "  <tbody>\n",
       "    <tr>\n",
       "      <th>2</th>\n",
       "      <td>zero</td>\n",
       "      <td>0.962399</td>\n",
       "      <td>0.698306</td>\n",
       "    </tr>\n",
       "    <tr>\n",
       "      <th>1</th>\n",
       "      <td>nearest</td>\n",
       "      <td>0.957911</td>\n",
       "      <td>0.664694</td>\n",
       "    </tr>\n",
       "    <tr>\n",
       "      <th>0</th>\n",
       "      <td>linear</td>\n",
       "      <td>0.960857</td>\n",
       "      <td>0.664501</td>\n",
       "    </tr>\n",
       "    <tr>\n",
       "      <th>3</th>\n",
       "      <td>quadratic</td>\n",
       "      <td>0.956691</td>\n",
       "      <td>0.642589</td>\n",
       "    </tr>\n",
       "    <tr>\n",
       "      <th>4</th>\n",
       "      <td>cubic</td>\n",
       "      <td>0.957604</td>\n",
       "      <td>0.642309</td>\n",
       "    </tr>\n",
       "  </tbody>\n",
       "</table>\n",
       "</div>"
      ],
      "text/plain": [
       "      method     naive        cv\n",
       "2       zero  0.962399  0.698306\n",
       "1    nearest  0.957911  0.664694\n",
       "0     linear  0.960857  0.664501\n",
       "3  quadratic  0.956691  0.642589\n",
       "4      cubic  0.957604  0.642309"
      ]
     },
     "execution_count": 161,
     "metadata": {},
     "output_type": "execute_result"
    }
   ],
   "source": [
    "# cloud=True, AM=False\n",
    "result_df = pd.DataFrame(columns=['method', 'naive', 'cv'])\n",
    "result_df['method'] = method_name\n",
    "result_df['naive'] = naive_list\n",
    "result_df['cv'] = cv_list\n",
    "result_df.sort_values(by='cv', ascending=False)"
   ]
  },
  {
   "cell_type": "markdown",
   "metadata": {},
   "source": [
    "### 1"
   ]
  },
  {
   "cell_type": "code",
   "execution_count": 159,
   "metadata": {},
   "outputs": [
    {
     "data": {
      "text/html": [
       "<div>\n",
       "<style scoped>\n",
       "    .dataframe tbody tr th:only-of-type {\n",
       "        vertical-align: middle;\n",
       "    }\n",
       "\n",
       "    .dataframe tbody tr th {\n",
       "        vertical-align: top;\n",
       "    }\n",
       "\n",
       "    .dataframe thead th {\n",
       "        text-align: right;\n",
       "    }\n",
       "</style>\n",
       "<table border=\"1\" class=\"dataframe\">\n",
       "  <thead>\n",
       "    <tr style=\"text-align: right;\">\n",
       "      <th></th>\n",
       "      <th>method</th>\n",
       "      <th>naive</th>\n",
       "      <th>cv</th>\n",
       "    </tr>\n",
       "  </thead>\n",
       "  <tbody>\n",
       "    <tr>\n",
       "      <th>0</th>\n",
       "      <td>linear</td>\n",
       "      <td>0.966972</td>\n",
       "      <td>0.690853</td>\n",
       "    </tr>\n",
       "    <tr>\n",
       "      <th>3</th>\n",
       "      <td>quadratic</td>\n",
       "      <td>0.963849</td>\n",
       "      <td>0.668595</td>\n",
       "    </tr>\n",
       "    <tr>\n",
       "      <th>1</th>\n",
       "      <td>nearest</td>\n",
       "      <td>0.971346</td>\n",
       "      <td>0.662977</td>\n",
       "    </tr>\n",
       "    <tr>\n",
       "      <th>2</th>\n",
       "      <td>zero</td>\n",
       "      <td>0.971209</td>\n",
       "      <td>0.651262</td>\n",
       "    </tr>\n",
       "    <tr>\n",
       "      <th>4</th>\n",
       "      <td>cubic</td>\n",
       "      <td>0.966875</td>\n",
       "      <td>0.646213</td>\n",
       "    </tr>\n",
       "  </tbody>\n",
       "</table>\n",
       "</div>"
      ],
      "text/plain": [
       "      method     naive        cv\n",
       "0     linear  0.966972  0.690853\n",
       "3  quadratic  0.963849  0.668595\n",
       "1    nearest  0.971346  0.662977\n",
       "2       zero  0.971209  0.651262\n",
       "4      cubic  0.966875  0.646213"
      ]
     },
     "execution_count": 159,
     "metadata": {},
     "output_type": "execute_result"
    }
   ],
   "source": [
    "# cloud=False, AM=False\n",
    "result_df = pd.DataFrame(columns=['method', 'naive', 'cv'])\n",
    "result_df['method'] = method_name\n",
    "result_df['naive'] = naive_list\n",
    "result_df['cv'] = cv_list\n",
    "result_df.sort_values(by='cv', ascending=False)"
   ]
  },
  {
   "cell_type": "markdown",
   "metadata": {},
   "source": [
    "### note\n",
    "\n",
    "- 성능이 높지 않게 나온다.\n",
    "- interpolate method=zero, cloud=False(기상실측데이터 - 운량 사용x), AM=True(오전 8시 데이터)가 높게 나온다."
   ]
  }
 ],
 "metadata": {
  "kernelspec": {
   "display_name": "Python 3",
   "language": "python",
   "name": "python3"
  },
  "language_info": {
   "codemirror_mode": {
    "name": "ipython",
    "version": 3
   },
   "file_extension": ".py",
   "mimetype": "text/x-python",
   "name": "python",
   "nbconvert_exporter": "python",
   "pygments_lexer": "ipython3",
   "version": "3.6.5"
  }
 },
 "nbformat": 4,
 "nbformat_minor": 2
}
