{
 "cells": [
  {
   "cell_type": "markdown",
   "metadata": {},
   "source": [
    "# SETUP"
   ]
  },
  {
   "cell_type": "code",
   "execution_count": 19,
   "metadata": {},
   "outputs": [],
   "source": [
    "import numpy as np\n",
    "import pandas as pd\n",
    "from matplotlib import rcParams\n",
    "\n",
    "%matplotlib inline\n",
    "rcParams['font.family'] = 'DejaVu Sans'"
   ]
  },
  {
   "cell_type": "code",
   "execution_count": 3,
   "metadata": {},
   "outputs": [
    {
     "data": {
      "text/html": [
       "<div>\n",
       "<style scoped>\n",
       "    .dataframe tbody tr th:only-of-type {\n",
       "        vertical-align: middle;\n",
       "    }\n",
       "\n",
       "    .dataframe tbody tr th {\n",
       "        vertical-align: top;\n",
       "    }\n",
       "\n",
       "    .dataframe thead th {\n",
       "        text-align: right;\n",
       "    }\n",
       "</style>\n",
       "<table border=\"1\" class=\"dataframe\">\n",
       "  <thead>\n",
       "    <tr style=\"text-align: right;\">\n",
       "      <th></th>\n",
       "      <th>temperature_3H</th>\n",
       "      <th>precipitation_form</th>\n",
       "      <th>rainfall_probability</th>\n",
       "      <th>humidity</th>\n",
       "      <th>wind_speed</th>\n",
       "      <th>wind_direction</th>\n",
       "      <th>insolation</th>\n",
       "    </tr>\n",
       "  </thead>\n",
       "  <tbody>\n",
       "    <tr>\n",
       "      <th>2018-03-06 19:00:00</th>\n",
       "      <td>1.000000</td>\n",
       "      <td>0.0</td>\n",
       "      <td>13.333333</td>\n",
       "      <td>81.666667</td>\n",
       "      <td>2.700000</td>\n",
       "      <td>117.0</td>\n",
       "      <td>0.0</td>\n",
       "    </tr>\n",
       "    <tr>\n",
       "      <th>2018-03-06 20:00:00</th>\n",
       "      <td>1.000000</td>\n",
       "      <td>0.0</td>\n",
       "      <td>16.666667</td>\n",
       "      <td>83.333333</td>\n",
       "      <td>2.900000</td>\n",
       "      <td>118.0</td>\n",
       "      <td>0.0</td>\n",
       "    </tr>\n",
       "    <tr>\n",
       "      <th>2018-03-06 21:00:00</th>\n",
       "      <td>1.000000</td>\n",
       "      <td>0.0</td>\n",
       "      <td>20.000000</td>\n",
       "      <td>85.000000</td>\n",
       "      <td>3.100000</td>\n",
       "      <td>119.0</td>\n",
       "      <td>0.0</td>\n",
       "    </tr>\n",
       "    <tr>\n",
       "      <th>2018-03-06 22:00:00</th>\n",
       "      <td>1.666667</td>\n",
       "      <td>0.0</td>\n",
       "      <td>20.000000</td>\n",
       "      <td>83.333333</td>\n",
       "      <td>3.133333</td>\n",
       "      <td>118.0</td>\n",
       "      <td>0.0</td>\n",
       "    </tr>\n",
       "    <tr>\n",
       "      <th>2018-03-06 23:00:00</th>\n",
       "      <td>2.333333</td>\n",
       "      <td>0.0</td>\n",
       "      <td>20.000000</td>\n",
       "      <td>81.666667</td>\n",
       "      <td>3.166667</td>\n",
       "      <td>117.0</td>\n",
       "      <td>0.0</td>\n",
       "    </tr>\n",
       "  </tbody>\n",
       "</table>\n",
       "</div>"
      ],
      "text/plain": [
       "                     temperature_3H  precipitation_form  rainfall_probability  \\\n",
       "2018-03-06 19:00:00        1.000000                 0.0             13.333333   \n",
       "2018-03-06 20:00:00        1.000000                 0.0             16.666667   \n",
       "2018-03-06 21:00:00        1.000000                 0.0             20.000000   \n",
       "2018-03-06 22:00:00        1.666667                 0.0             20.000000   \n",
       "2018-03-06 23:00:00        2.333333                 0.0             20.000000   \n",
       "\n",
       "                      humidity  wind_speed  wind_direction  insolation  \n",
       "2018-03-06 19:00:00  81.666667    2.700000           117.0         0.0  \n",
       "2018-03-06 20:00:00  83.333333    2.900000           118.0         0.0  \n",
       "2018-03-06 21:00:00  85.000000    3.100000           119.0         0.0  \n",
       "2018-03-06 22:00:00  83.333333    3.133333           118.0         0.0  \n",
       "2018-03-06 23:00:00  81.666667    3.166667           117.0         0.0  "
      ]
     },
     "execution_count": 3,
     "metadata": {},
     "output_type": "execute_result"
    }
   ],
   "source": [
    "file = '/Users/quartz/GoogleDrive/ewp/data_whole_02.pkl'\n",
    "data_raw = pd.read_pickle(file)\n",
    "data_raw.tail()"
   ]
  },
  {
   "cell_type": "code",
   "execution_count": 4,
   "metadata": {},
   "outputs": [
    {
     "data": {
      "text/plain": [
       "<matplotlib.axes._subplots.AxesSubplot at 0x105c64f60>"
      ]
     },
     "execution_count": 4,
     "metadata": {},
     "output_type": "execute_result"
    },
    {
     "data": {
      "image/png": "[encoded data removed]",
      "text/plain": [
       "<Figure size 432x288 with 1 Axes>"
      ]
     },
     "metadata": {},
     "output_type": "display_data"
    }
   ],
   "source": [
    "data_raw.insolation.hist()"
   ]
  },
  {
   "cell_type": "code",
   "execution_count": 9,
   "metadata": {},
   "outputs": [
    {
     "data": {
      "text/plain": [
       "<matplotlib.axes._subplots.AxesSubplot at 0x105d6f860>"
      ]
     },
     "execution_count": 9,
     "metadata": {},
     "output_type": "execute_result"
    },
    {
     "data": {
      "image/png": "[encoded data removed]",
      "text/plain": [
       "<Figure size 432x288 with 1 Axes>"
      ]
     },
     "metadata": {},
     "output_type": "display_data"
    }
   ],
   "source": [
    "data_raw.insolation.plot()"
   ]
  },
  {
   "cell_type": "code",
   "execution_count": 5,
   "metadata": {},
   "outputs": [
    {
     "data": {
      "text/plain": [
       "temperature_3H          float64\n",
       "precipitation_form      float64\n",
       "rainfall_probability    float64\n",
       "humidity                float64\n",
       "wind_speed              float64\n",
       "wind_direction          float64\n",
       "insolation              float32\n",
       "dtype: object"
      ]
     },
     "execution_count": 5,
     "metadata": {},
     "output_type": "execute_result"
    }
   ],
   "source": [
    "data_raw.dtypes"
   ]
  },
  {
   "cell_type": "code",
   "execution_count": 6,
   "metadata": {},
   "outputs": [
    {
     "data": {
      "text/html": [
       "<div>\n",
       "<style scoped>\n",
       "    .dataframe tbody tr th:only-of-type {\n",
       "        vertical-align: middle;\n",
       "    }\n",
       "\n",
       "    .dataframe tbody tr th {\n",
       "        vertical-align: top;\n",
       "    }\n",
       "\n",
       "    .dataframe thead th {\n",
       "        text-align: right;\n",
       "    }\n",
       "</style>\n",
       "<table border=\"1\" class=\"dataframe\">\n",
       "  <thead>\n",
       "    <tr style=\"text-align: right;\">\n",
       "      <th></th>\n",
       "      <th>temperature_3H</th>\n",
       "      <th>precipitation_form</th>\n",
       "      <th>rainfall_probability</th>\n",
       "      <th>humidity</th>\n",
       "      <th>wind_speed</th>\n",
       "      <th>wind_direction</th>\n",
       "      <th>insolation</th>\n",
       "    </tr>\n",
       "  </thead>\n",
       "  <tbody>\n",
       "    <tr>\n",
       "      <th>count</th>\n",
       "      <td>144.000000</td>\n",
       "      <td>144.000000</td>\n",
       "      <td>144.000000</td>\n",
       "      <td>144.000000</td>\n",
       "      <td>144.000000</td>\n",
       "      <td>144.000000</td>\n",
       "      <td>144.000000</td>\n",
       "    </tr>\n",
       "    <tr>\n",
       "      <th>mean</th>\n",
       "      <td>3.881944</td>\n",
       "      <td>0.125000</td>\n",
       "      <td>17.916667</td>\n",
       "      <td>76.631944</td>\n",
       "      <td>3.415278</td>\n",
       "      <td>162.791667</td>\n",
       "      <td>236.226974</td>\n",
       "    </tr>\n",
       "    <tr>\n",
       "      <th>std</th>\n",
       "      <td>5.008380</td>\n",
       "      <td>0.322372</td>\n",
       "      <td>22.476354</td>\n",
       "      <td>12.670697</td>\n",
       "      <td>1.403635</td>\n",
       "      <td>111.978963</td>\n",
       "      <td>348.745270</td>\n",
       "    </tr>\n",
       "    <tr>\n",
       "      <th>min</th>\n",
       "      <td>-3.000000</td>\n",
       "      <td>0.000000</td>\n",
       "      <td>0.000000</td>\n",
       "      <td>50.000000</td>\n",
       "      <td>1.000000</td>\n",
       "      <td>15.000000</td>\n",
       "      <td>0.000000</td>\n",
       "    </tr>\n",
       "    <tr>\n",
       "      <th>25%</th>\n",
       "      <td>-0.333333</td>\n",
       "      <td>0.000000</td>\n",
       "      <td>0.000000</td>\n",
       "      <td>68.333333</td>\n",
       "      <td>2.400000</td>\n",
       "      <td>59.750000</td>\n",
       "      <td>0.000000</td>\n",
       "    </tr>\n",
       "    <tr>\n",
       "      <th>50%</th>\n",
       "      <td>2.500000</td>\n",
       "      <td>0.000000</td>\n",
       "      <td>10.000000</td>\n",
       "      <td>79.166667</td>\n",
       "      <td>3.100000</td>\n",
       "      <td>133.833333</td>\n",
       "      <td>0.000000</td>\n",
       "    </tr>\n",
       "    <tr>\n",
       "      <th>75%</th>\n",
       "      <td>8.666667</td>\n",
       "      <td>0.000000</td>\n",
       "      <td>23.333333</td>\n",
       "      <td>86.666667</td>\n",
       "      <td>4.000000</td>\n",
       "      <td>282.083333</td>\n",
       "      <td>474.680580</td>\n",
       "    </tr>\n",
       "    <tr>\n",
       "      <th>max</th>\n",
       "      <td>15.000000</td>\n",
       "      <td>1.000000</td>\n",
       "      <td>80.000000</td>\n",
       "      <td>95.000000</td>\n",
       "      <td>7.300000</td>\n",
       "      <td>349.000000</td>\n",
       "      <td>1000.000000</td>\n",
       "    </tr>\n",
       "  </tbody>\n",
       "</table>\n",
       "</div>"
      ],
      "text/plain": [
       "       temperature_3H  precipitation_form  rainfall_probability    humidity  \\\n",
       "count      144.000000          144.000000            144.000000  144.000000   \n",
       "mean         3.881944            0.125000             17.916667   76.631944   \n",
       "std          5.008380            0.322372             22.476354   12.670697   \n",
       "min         -3.000000            0.000000              0.000000   50.000000   \n",
       "25%         -0.333333            0.000000              0.000000   68.333333   \n",
       "50%          2.500000            0.000000             10.000000   79.166667   \n",
       "75%          8.666667            0.000000             23.333333   86.666667   \n",
       "max         15.000000            1.000000             80.000000   95.000000   \n",
       "\n",
       "       wind_speed  wind_direction   insolation  \n",
       "count  144.000000      144.000000   144.000000  \n",
       "mean     3.415278      162.791667   236.226974  \n",
       "std      1.403635      111.978963   348.745270  \n",
       "min      1.000000       15.000000     0.000000  \n",
       "25%      2.400000       59.750000     0.000000  \n",
       "50%      3.100000      133.833333     0.000000  \n",
       "75%      4.000000      282.083333   474.680580  \n",
       "max      7.300000      349.000000  1000.000000  "
      ]
     },
     "execution_count": 6,
     "metadata": {},
     "output_type": "execute_result"
    }
   ],
   "source": [
    "data_raw.describe()"
   ]
  },
  {
   "cell_type": "code",
   "execution_count": 7,
   "metadata": {},
   "outputs": [
    {
     "name": "stdout",
     "output_type": "stream",
     "text": [
      "<class 'pandas.core.frame.DataFrame'>\n",
      "DatetimeIndex: 144 entries, 2018-03-01 00:00:00 to 2018-03-06 23:00:00\n",
      "Freq: H\n",
      "Data columns (total 7 columns):\n",
      "temperature_3H          144 non-null float64\n",
      "precipitation_form      144 non-null float64\n",
      "rainfall_probability    144 non-null float64\n",
      "humidity                144 non-null float64\n",
      "wind_speed              144 non-null float64\n",
      "wind_direction          144 non-null float64\n",
      "insolation              144 non-null float32\n",
      "dtypes: float32(1), float64(6)\n",
      "memory usage: 8.4 KB\n"
     ]
    }
   ],
   "source": [
    "data_raw.info()"
   ]
  },
  {
   "cell_type": "code",
   "execution_count": 10,
   "metadata": {},
   "outputs": [
    {
     "data": {
      "text/html": [
       "<div>\n",
       "<style scoped>\n",
       "    .dataframe tbody tr th:only-of-type {\n",
       "        vertical-align: middle;\n",
       "    }\n",
       "\n",
       "    .dataframe tbody tr th {\n",
       "        vertical-align: top;\n",
       "    }\n",
       "\n",
       "    .dataframe thead th {\n",
       "        text-align: right;\n",
       "    }\n",
       "</style>\n",
       "<table border=\"1\" class=\"dataframe\">\n",
       "  <thead>\n",
       "    <tr style=\"text-align: right;\">\n",
       "      <th></th>\n",
       "      <th>temperature_3H</th>\n",
       "      <th>precipitation_form</th>\n",
       "      <th>rainfall_probability</th>\n",
       "      <th>humidity</th>\n",
       "      <th>wind_speed</th>\n",
       "      <th>wind_direction</th>\n",
       "      <th>insolation</th>\n",
       "    </tr>\n",
       "  </thead>\n",
       "  <tbody>\n",
       "    <tr>\n",
       "      <th>temperature_3H</th>\n",
       "      <td>1.000000</td>\n",
       "      <td>0.402863</td>\n",
       "      <td>0.622741</td>\n",
       "      <td>0.470472</td>\n",
       "      <td>-0.092662</td>\n",
       "      <td>-0.374531</td>\n",
       "      <td>-0.195798</td>\n",
       "    </tr>\n",
       "    <tr>\n",
       "      <th>precipitation_form</th>\n",
       "      <td>0.402863</td>\n",
       "      <td>1.000000</td>\n",
       "      <td>0.899436</td>\n",
       "      <td>0.510868</td>\n",
       "      <td>0.171930</td>\n",
       "      <td>-0.418608</td>\n",
       "      <td>-0.158893</td>\n",
       "    </tr>\n",
       "    <tr>\n",
       "      <th>rainfall_probability</th>\n",
       "      <td>0.622741</td>\n",
       "      <td>0.899436</td>\n",
       "      <td>1.000000</td>\n",
       "      <td>0.698330</td>\n",
       "      <td>0.127115</td>\n",
       "      <td>-0.479782</td>\n",
       "      <td>-0.198891</td>\n",
       "    </tr>\n",
       "    <tr>\n",
       "      <th>humidity</th>\n",
       "      <td>0.470472</td>\n",
       "      <td>0.510868</td>\n",
       "      <td>0.698330</td>\n",
       "      <td>1.000000</td>\n",
       "      <td>-0.103271</td>\n",
       "      <td>-0.706706</td>\n",
       "      <td>-0.066582</td>\n",
       "    </tr>\n",
       "    <tr>\n",
       "      <th>wind_speed</th>\n",
       "      <td>-0.092662</td>\n",
       "      <td>0.171930</td>\n",
       "      <td>0.127115</td>\n",
       "      <td>-0.103271</td>\n",
       "      <td>1.000000</td>\n",
       "      <td>0.293615</td>\n",
       "      <td>-0.052002</td>\n",
       "    </tr>\n",
       "    <tr>\n",
       "      <th>wind_direction</th>\n",
       "      <td>-0.374531</td>\n",
       "      <td>-0.418608</td>\n",
       "      <td>-0.479782</td>\n",
       "      <td>-0.706706</td>\n",
       "      <td>0.293615</td>\n",
       "      <td>1.000000</td>\n",
       "      <td>0.093720</td>\n",
       "    </tr>\n",
       "    <tr>\n",
       "      <th>insolation</th>\n",
       "      <td>-0.195798</td>\n",
       "      <td>-0.158893</td>\n",
       "      <td>-0.198891</td>\n",
       "      <td>-0.066582</td>\n",
       "      <td>-0.052002</td>\n",
       "      <td>0.093720</td>\n",
       "      <td>1.000000</td>\n",
       "    </tr>\n",
       "  </tbody>\n",
       "</table>\n",
       "</div>"
      ],
      "text/plain": [
       "                      temperature_3H  precipitation_form  \\\n",
       "temperature_3H              1.000000            0.402863   \n",
       "precipitation_form          0.402863            1.000000   \n",
       "rainfall_probability        0.622741            0.899436   \n",
       "humidity                    0.470472            0.510868   \n",
       "wind_speed                 -0.092662            0.171930   \n",
       "wind_direction             -0.374531           -0.418608   \n",
       "insolation                 -0.195798           -0.158893   \n",
       "\n",
       "                      rainfall_probability  humidity  wind_speed  \\\n",
       "temperature_3H                    0.622741  0.470472   -0.092662   \n",
       "precipitation_form                0.899436  0.510868    0.171930   \n",
       "rainfall_probability              1.000000  0.698330    0.127115   \n",
       "humidity                          0.698330  1.000000   -0.103271   \n",
       "wind_speed                        0.127115 -0.103271    1.000000   \n",
       "wind_direction                   -0.479782 -0.706706    0.293615   \n",
       "insolation                       -0.198891 -0.066582   -0.052002   \n",
       "\n",
       "                      wind_direction  insolation  \n",
       "temperature_3H             -0.374531   -0.195798  \n",
       "precipitation_form         -0.418608   -0.158893  \n",
       "rainfall_probability       -0.479782   -0.198891  \n",
       "humidity                   -0.706706   -0.066582  \n",
       "wind_speed                  0.293615   -0.052002  \n",
       "wind_direction              1.000000    0.093720  \n",
       "insolation                  0.093720    1.000000  "
      ]
     },
     "execution_count": 10,
     "metadata": {},
     "output_type": "execute_result"
    }
   ],
   "source": [
    "data_raw.corr()"
   ]
  },
  {
   "cell_type": "markdown",
   "metadata": {},
   "source": [
    "### 노트 (TODO)\n",
    "\n",
    "- 전처리\n",
    "- 모델링\n",
    "- 논문에서 다른 파생변수를 사용하지는 않았을까?\n",
    "\n",
    "- 실측 데이터\n",
    "    - 일사량(자기회귀 파생변수, 평균 및 1~3사분위), 운량(하늘 상태로 예측), 자외선지수(평균 및 1~3사분위), 태양고도\n",
    "    - 일사량 자기회귀 파생변수는 가능. \n",
    "    - 평균 및 1~3사분위 데이터는 어떻게 넣는지 잘 모르겠음.\n",
    "    - 운량은 하늘상태 데이터 부재로 사용 어려움.\n",
    "    - 태양고도는 샘플 데이터가 6일 데이터이기 때문에, 샘플 간 변별력이 없어 사용 X\n",
    "    \n",
    "> 일단 위 데이터로 모델링 시도"
   ]
  },
  {
   "cell_type": "markdown",
   "metadata": {},
   "source": [
    "---"
   ]
  },
  {
   "cell_type": "markdown",
   "metadata": {},
   "source": [
    "### 전처리"
   ]
  },
  {
   "cell_type": "code",
   "execution_count": 15,
   "metadata": {},
   "outputs": [
    {
     "data": {
      "text/plain": [
       "((144, 6), (144, 1))"
      ]
     },
     "execution_count": 15,
     "metadata": {},
     "output_type": "execute_result"
    }
   ],
   "source": [
    "# X, y\n",
    "\n",
    "y = data_raw.iloc[:, -1:]\n",
    "X = data_raw.drop(['insolation'], axis=1)\n",
    "X.shape, y.shape"
   ]
  },
  {
   "cell_type": "code",
   "execution_count": 16,
   "metadata": {},
   "outputs": [
    {
     "data": {
      "text/plain": [
       "((108, 6), (36, 6), (108, 1), (36, 1))"
      ]
     },
     "execution_count": 16,
     "metadata": {},
     "output_type": "execute_result"
    }
   ],
   "source": [
    "from sklearn.model_selection import train_test_split\n",
    "\n",
    "X_train, X_test, y_train, y_test = train_test_split(X, y, test_size=0.25)\n",
    "X_train.shape, X_test.shape, y_train.shape, y_test.shape"
   ]
  },
  {
   "cell_type": "code",
   "execution_count": 17,
   "metadata": {},
   "outputs": [],
   "source": [
    "from sklearn.preprocessing import MinMaxScaler\n",
    "\n",
    "scaler = MinMaxScaler()\n",
    "\n",
    "X_train_sc = scaler.fit_transform(X_train)\n",
    "X_test_sc = scaler.transform(X_test)\n",
    "\n",
    "y_train_sc = scaler.fit_transform(y_train)\n",
    "y_test_sc = scaler.transform(y_test)\n",
    "\n",
    "X_train_df = pd.DataFrame(data=X_train_sc, columns=X_train.columns)\n",
    "X_test_df = pd.DataFrame(data=X_test_sc, columns=X_test.columns)\n",
    "\n",
    "y_train_df = pd.DataFrame(data=y_train_sc, columns=y_train.columns)\n",
    "y_test_df = pd.DataFrame(data=y_test_sc, columns=y_test.columns)"
   ]
  },
  {
   "cell_type": "markdown",
   "metadata": {},
   "source": [
    "---"
   ]
  },
  {
   "cell_type": "markdown",
   "metadata": {},
   "source": [
    "### 모델링"
   ]
  },
  {
   "cell_type": "code",
   "execution_count": 21,
   "metadata": {},
   "outputs": [
    {
     "data": {
      "text/plain": [
       "0.11786457093456032"
      ]
     },
     "execution_count": 21,
     "metadata": {},
     "output_type": "execute_result"
    }
   ],
   "source": [
    "from sklearn.linear_model import LinearRegression\n",
    "\n",
    "model_linear = LinearRegression()\n",
    "model_linear = model_linear.fit(X_train_df, y_train_df)\n",
    "y_pred = model_linear.predict(X_test_df)\n",
    "\n",
    "np.mean(np.power(y_pred - y_test_df.values, 2))"
   ]
  },
  {
   "cell_type": "code",
   "execution_count": 28,
   "metadata": {},
   "outputs": [
    {
     "name": "stdout",
     "output_type": "stream",
     "text": [
      "                            OLS Regression Results                            \n",
      "==============================================================================\n",
      "Dep. Variable:             insolation   R-squared:                       0.368\n",
      "Model:                            OLS   Adj. R-squared:                  0.331\n",
      "Method:                 Least Squares   F-statistic:                     9.913\n",
      "Date:                Wed, 30 Jan 2019   Prob (F-statistic):           1.33e-08\n",
      "Time:                        21:18:48   Log-Likelihood:                -34.731\n",
      "No. Observations:                 108   AIC:                             81.46\n",
      "Df Residuals:                     102   BIC:                             97.56\n",
      "Df Model:                           6                                         \n",
      "Covariance Type:            nonrobust                                         \n",
      "========================================================================================\n",
      "                           coef    std err          t      P>|t|      [0.025      0.975]\n",
      "----------------------------------------------------------------------------------------\n",
      "temperature_3H          -0.0580      0.158     -0.368      0.714      -0.371       0.255\n",
      "precipitation_form       0.4298      0.289      1.485      0.141      -0.144       1.004\n",
      "rainfall_probability    -0.9498      0.418     -2.273      0.025      -1.779      -0.121\n",
      "humidity                 0.5519      0.128      4.304      0.000       0.298       0.806\n",
      "wind_speed              -0.0190      0.159     -0.120      0.905      -0.334       0.296\n",
      "wind_direction           0.2232      0.104      2.148      0.034       0.017       0.429\n",
      "==============================================================================\n",
      "Omnibus:                       14.172   Durbin-Watson:                   2.026\n",
      "Prob(Omnibus):                  0.001   Jarque-Bera (JB):               16.813\n",
      "Skew:                           0.959   Prob(JB):                     0.000223\n",
      "Kurtosis:                       2.761   Cond. No.                         15.2\n",
      "==============================================================================\n",
      "\n",
      "Warnings:\n",
      "[1] Standard Errors assume that the covariance matrix of the errors is correctly specified.\n"
     ]
    }
   ],
   "source": [
    "import statsmodels.api as sm\n",
    "\n",
    "model = sm.OLS(y_train_df, X_train_df)\n",
    "result = model.fit()\n",
    "print(result.summary())"
   ]
  },
  {
   "cell_type": "code",
   "execution_count": 29,
   "metadata": {},
   "outputs": [
    {
     "name": "stderr",
     "output_type": "stream",
     "text": [
      "/usr/local/lib/python3.6/site-packages/ipykernel_launcher.py:4: DataConversionWarning: A column-vector y was passed when a 1d array was expected. Please change the shape of y to (n_samples,), for example using ravel().\n",
      "  after removing the cwd from sys.path.\n"
     ]
    },
    {
     "data": {
      "text/plain": [
       "0.16116309699463577"
      ]
     },
     "execution_count": 29,
     "metadata": {},
     "output_type": "execute_result"
    }
   ],
   "source": [
    "from sklearn.ensemble import RandomForestRegressor\n",
    "\n",
    "model_rfr = RandomForestRegressor()\n",
    "model_rfr = model_rfr.fit(X_train_df, y_train_df)\n",
    "y_pred = model_rfr.predict(X_test_df)\n",
    "np.mean(np.power(y_pred - y_test_df.values, 2))"
   ]
  },
  {
   "cell_type": "markdown",
   "metadata": {},
   "source": [
    "### 노트\n",
    "\n",
    "- linear regression, random forest regressor의 성능이 높지 않게 나온다. (Adj. R-squared 0.331 / rmse : 0.117 / 0.161 정도)"
   ]
  },
  {
   "cell_type": "code",
   "execution_count": null,
   "metadata": {},
   "outputs": [],
   "source": []
  },
  {
   "cell_type": "code",
   "execution_count": null,
   "metadata": {},
   "outputs": [],
   "source": []
  },
  {
   "cell_type": "code",
   "execution_count": null,
   "metadata": {},
   "outputs": [],
   "source": []
  },
  {
   "cell_type": "code",
   "execution_count": 2,
   "metadata": {},
   "outputs": [],
   "source": []
  }
 ],
 "metadata": {
  "kernelspec": {
   "display_name": "Python 3",
   "language": "python",
   "name": "python3"
  },
  "language_info": {
   "codemirror_mode": {
    "name": "ipython",
    "version": 3
   },
   "file_extension": ".py",
   "mimetype": "text/x-python",
   "name": "python",
   "nbconvert_exporter": "python",
   "pygments_lexer": "ipython3",
   "version": "3.6.5"
  }
 },
 "nbformat": 4,
 "nbformat_minor": 2
}
